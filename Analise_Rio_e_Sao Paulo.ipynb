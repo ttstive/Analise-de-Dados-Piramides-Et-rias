{
 "cells": [
  {
   "cell_type": "code",
   "execution_count": 1,
   "id": "a76a5f43",
   "metadata": {},
   "outputs": [],
   "source": [
    "import pandas as pd\n",
    "import numpy as np\n",
    "import matplotlib.pyplot as plt\n",
    "import seaborn as sns\n",
    "import plotly.graph_objects as go\n"
   ]
  },
  {
   "cell_type": "code",
   "execution_count": 2,
   "id": "79ed8ab7",
   "metadata": {},
   "outputs": [],
   "source": [
    "dados_cit1 = pd.read_excel(\"Dados/Censo 2022 - Pirâmide etária - Rio de Janeiro.xlsx\")\n",
    "dados_cit2 = pd.read_excel(\"Dados/Censo 2022 - Pirâmide etária - São Paulo.xlsx\")"
   ]
  },
  {
   "cell_type": "code",
   "execution_count": 3,
   "id": "d3a9f72c",
   "metadata": {},
   "outputs": [
    {
     "data": {
      "text/html": [
       "<div>\n",
       "<style scoped>\n",
       "    .dataframe tbody tr th:only-of-type {\n",
       "        vertical-align: middle;\n",
       "    }\n",
       "\n",
       "    .dataframe tbody tr th {\n",
       "        vertical-align: top;\n",
       "    }\n",
       "\n",
       "    .dataframe thead th {\n",
       "        text-align: right;\n",
       "    }\n",
       "</style>\n",
       "<table border=\"1\" class=\"dataframe\">\n",
       "  <thead>\n",
       "    <tr style=\"text-align: right;\">\n",
       "      <th></th>\n",
       "      <th>Grupo de idade</th>\n",
       "      <th>População feminina(pessoas)</th>\n",
       "      <th>População masculina(pessoas)</th>\n",
       "      <th>Unidade da Federação</th>\n",
       "    </tr>\n",
       "  </thead>\n",
       "  <tbody>\n",
       "    <tr>\n",
       "      <th>0</th>\n",
       "      <td>100 anos ou mais</td>\n",
       "      <td>3956</td>\n",
       "      <td>1139</td>\n",
       "      <td>São Paulo</td>\n",
       "    </tr>\n",
       "    <tr>\n",
       "      <th>1</th>\n",
       "      <td>95 a 99 anos</td>\n",
       "      <td>25635</td>\n",
       "      <td>9237</td>\n",
       "      <td>São Paulo</td>\n",
       "    </tr>\n",
       "    <tr>\n",
       "      <th>2</th>\n",
       "      <td>90 a 94 anos</td>\n",
       "      <td>93907</td>\n",
       "      <td>41900</td>\n",
       "      <td>São Paulo</td>\n",
       "    </tr>\n",
       "    <tr>\n",
       "      <th>3</th>\n",
       "      <td>85 a 89 anos</td>\n",
       "      <td>203595</td>\n",
       "      <td>110144</td>\n",
       "      <td>São Paulo</td>\n",
       "    </tr>\n",
       "    <tr>\n",
       "      <th>4</th>\n",
       "      <td>80 a 84 anos</td>\n",
       "      <td>351593</td>\n",
       "      <td>226250</td>\n",
       "      <td>São Paulo</td>\n",
       "    </tr>\n",
       "    <tr>\n",
       "      <th>5</th>\n",
       "      <td>75 a 79 anos</td>\n",
       "      <td>533810</td>\n",
       "      <td>379387</td>\n",
       "      <td>São Paulo</td>\n",
       "    </tr>\n",
       "    <tr>\n",
       "      <th>6</th>\n",
       "      <td>70 a 74 anos</td>\n",
       "      <td>795497</td>\n",
       "      <td>608455</td>\n",
       "      <td>São Paulo</td>\n",
       "    </tr>\n",
       "    <tr>\n",
       "      <th>7</th>\n",
       "      <td>65 a 69 anos</td>\n",
       "      <td>1054437</td>\n",
       "      <td>846244</td>\n",
       "      <td>São Paulo</td>\n",
       "    </tr>\n",
       "    <tr>\n",
       "      <th>8</th>\n",
       "      <td>60 a 64 anos</td>\n",
       "      <td>1294948</td>\n",
       "      <td>1070434</td>\n",
       "      <td>São Paulo</td>\n",
       "    </tr>\n",
       "    <tr>\n",
       "      <th>9</th>\n",
       "      <td>55 a 59 anos</td>\n",
       "      <td>1433780</td>\n",
       "      <td>1233497</td>\n",
       "      <td>São Paulo</td>\n",
       "    </tr>\n",
       "    <tr>\n",
       "      <th>10</th>\n",
       "      <td>50 a 54 anos</td>\n",
       "      <td>1534930</td>\n",
       "      <td>1375110</td>\n",
       "      <td>São Paulo</td>\n",
       "    </tr>\n",
       "    <tr>\n",
       "      <th>11</th>\n",
       "      <td>45 a 49 anos</td>\n",
       "      <td>1639164</td>\n",
       "      <td>1487081</td>\n",
       "      <td>São Paulo</td>\n",
       "    </tr>\n",
       "    <tr>\n",
       "      <th>12</th>\n",
       "      <td>40 a 44 anos</td>\n",
       "      <td>1902856</td>\n",
       "      <td>1764496</td>\n",
       "      <td>São Paulo</td>\n",
       "    </tr>\n",
       "    <tr>\n",
       "      <th>13</th>\n",
       "      <td>35 a 39 anos</td>\n",
       "      <td>1873165</td>\n",
       "      <td>1763514</td>\n",
       "      <td>São Paulo</td>\n",
       "    </tr>\n",
       "    <tr>\n",
       "      <th>14</th>\n",
       "      <td>30 a 34 anos</td>\n",
       "      <td>1730527</td>\n",
       "      <td>1672739</td>\n",
       "      <td>São Paulo</td>\n",
       "    </tr>\n",
       "    <tr>\n",
       "      <th>15</th>\n",
       "      <td>25 a 29 anos</td>\n",
       "      <td>1655473</td>\n",
       "      <td>1650670</td>\n",
       "      <td>São Paulo</td>\n",
       "    </tr>\n",
       "    <tr>\n",
       "      <th>16</th>\n",
       "      <td>20 a 24 anos</td>\n",
       "      <td>1584091</td>\n",
       "      <td>1626745</td>\n",
       "      <td>São Paulo</td>\n",
       "    </tr>\n",
       "    <tr>\n",
       "      <th>17</th>\n",
       "      <td>15 a 19 anos</td>\n",
       "      <td>1396816</td>\n",
       "      <td>1460853</td>\n",
       "      <td>São Paulo</td>\n",
       "    </tr>\n",
       "    <tr>\n",
       "      <th>18</th>\n",
       "      <td>10 a 14 anos</td>\n",
       "      <td>1334980</td>\n",
       "      <td>1397236</td>\n",
       "      <td>São Paulo</td>\n",
       "    </tr>\n",
       "    <tr>\n",
       "      <th>19</th>\n",
       "      <td>5 a 9 anos</td>\n",
       "      <td>1360130</td>\n",
       "      <td>1415247</td>\n",
       "      <td>São Paulo</td>\n",
       "    </tr>\n",
       "    <tr>\n",
       "      <th>20</th>\n",
       "      <td>0 a 4 anos</td>\n",
       "      <td>1211572</td>\n",
       "      <td>1255998</td>\n",
       "      <td>São Paulo</td>\n",
       "    </tr>\n",
       "  </tbody>\n",
       "</table>\n",
       "</div>"
      ],
      "text/plain": [
       "      Grupo de idade  População feminina(pessoas)  \\\n",
       "0   100 anos ou mais                         3956   \n",
       "1       95 a 99 anos                        25635   \n",
       "2       90 a 94 anos                        93907   \n",
       "3       85 a 89 anos                       203595   \n",
       "4       80 a 84 anos                       351593   \n",
       "5       75 a 79 anos                       533810   \n",
       "6       70 a 74 anos                       795497   \n",
       "7       65 a 69 anos                      1054437   \n",
       "8       60 a 64 anos                      1294948   \n",
       "9       55 a 59 anos                      1433780   \n",
       "10      50 a 54 anos                      1534930   \n",
       "11      45 a 49 anos                      1639164   \n",
       "12      40 a 44 anos                      1902856   \n",
       "13      35 a 39 anos                      1873165   \n",
       "14      30 a 34 anos                      1730527   \n",
       "15      25 a 29 anos                      1655473   \n",
       "16      20 a 24 anos                      1584091   \n",
       "17      15 a 19 anos                      1396816   \n",
       "18      10 a 14 anos                      1334980   \n",
       "19        5 a 9 anos                      1360130   \n",
       "20        0 a 4 anos                      1211572   \n",
       "\n",
       "    População masculina(pessoas) Unidade da Federação  \n",
       "0                           1139            São Paulo  \n",
       "1                           9237            São Paulo  \n",
       "2                          41900            São Paulo  \n",
       "3                         110144            São Paulo  \n",
       "4                         226250            São Paulo  \n",
       "5                         379387            São Paulo  \n",
       "6                         608455            São Paulo  \n",
       "7                         846244            São Paulo  \n",
       "8                        1070434            São Paulo  \n",
       "9                        1233497            São Paulo  \n",
       "10                       1375110            São Paulo  \n",
       "11                       1487081            São Paulo  \n",
       "12                       1764496            São Paulo  \n",
       "13                       1763514            São Paulo  \n",
       "14                       1672739            São Paulo  \n",
       "15                       1650670            São Paulo  \n",
       "16                       1626745            São Paulo  \n",
       "17                       1460853            São Paulo  \n",
       "18                       1397236            São Paulo  \n",
       "19                       1415247            São Paulo  \n",
       "20                       1255998            São Paulo  "
      ]
     },
     "execution_count": 3,
     "metadata": {},
     "output_type": "execute_result"
    }
   ],
   "source": [
    "dados_cit2"
   ]
  },
  {
   "cell_type": "code",
   "execution_count": 4,
   "id": "bcc881b9",
   "metadata": {},
   "outputs": [],
   "source": [
    "dados_cit2[\"Popfem2\"] = dados_cit2[\"População feminina(pessoas)\"] *-100"
   ]
  },
  {
   "cell_type": "code",
   "execution_count": 5,
   "id": "38a06926",
   "metadata": {},
   "outputs": [],
   "source": [
    "dados_cit2[\"Popfem2\"] = dados_cit2[\"Popfem2\"].abs()"
   ]
  },
  {
   "cell_type": "code",
   "execution_count": 6,
   "id": "c0610cbd",
   "metadata": {},
   "outputs": [],
   "source": [
    "dados_cit2[\"Popmasc\"] = dados_cit2[\"População masculina(pessoas)\"] *-100"
   ]
  },
  {
   "cell_type": "code",
   "execution_count": 7,
   "id": "3f6fd86e",
   "metadata": {},
   "outputs": [],
   "source": [
    "dados_cit2_r = dados_cit2.drop([\"População feminina(pessoas)\"], axis= 1)"
   ]
  },
  {
   "cell_type": "code",
   "execution_count": 8,
   "id": "5eb05797",
   "metadata": {},
   "outputs": [],
   "source": [
    "dados_cit2_r = dados_cit2.drop([\"População masculina(pessoas)\"], axis= 1)"
   ]
  },
  {
   "cell_type": "code",
   "execution_count": 9,
   "id": "d83c00f9",
   "metadata": {},
   "outputs": [],
   "source": [
    "dados_cit2_r = dados_cit2[[\"Grupo de idade\",\"Popfem2\", \"Popmasc\", \"Unidade da Federação\" ]]"
   ]
  },
  {
   "cell_type": "code",
   "execution_count": 10,
   "id": "cecc8fd7",
   "metadata": {},
   "outputs": [
    {
     "data": {
      "text/html": [
       "<div>\n",
       "<style scoped>\n",
       "    .dataframe tbody tr th:only-of-type {\n",
       "        vertical-align: middle;\n",
       "    }\n",
       "\n",
       "    .dataframe tbody tr th {\n",
       "        vertical-align: top;\n",
       "    }\n",
       "\n",
       "    .dataframe thead th {\n",
       "        text-align: right;\n",
       "    }\n",
       "</style>\n",
       "<table border=\"1\" class=\"dataframe\">\n",
       "  <thead>\n",
       "    <tr style=\"text-align: right;\">\n",
       "      <th></th>\n",
       "      <th>Grupo de idade</th>\n",
       "      <th>Popfem2</th>\n",
       "      <th>Popmasc</th>\n",
       "      <th>Unidade da Federação</th>\n",
       "    </tr>\n",
       "  </thead>\n",
       "  <tbody>\n",
       "    <tr>\n",
       "      <th>0</th>\n",
       "      <td>100 anos ou mais</td>\n",
       "      <td>395600</td>\n",
       "      <td>-113900</td>\n",
       "      <td>São Paulo</td>\n",
       "    </tr>\n",
       "    <tr>\n",
       "      <th>1</th>\n",
       "      <td>95 a 99 anos</td>\n",
       "      <td>2563500</td>\n",
       "      <td>-923700</td>\n",
       "      <td>São Paulo</td>\n",
       "    </tr>\n",
       "    <tr>\n",
       "      <th>2</th>\n",
       "      <td>90 a 94 anos</td>\n",
       "      <td>9390700</td>\n",
       "      <td>-4190000</td>\n",
       "      <td>São Paulo</td>\n",
       "    </tr>\n",
       "    <tr>\n",
       "      <th>3</th>\n",
       "      <td>85 a 89 anos</td>\n",
       "      <td>20359500</td>\n",
       "      <td>-11014400</td>\n",
       "      <td>São Paulo</td>\n",
       "    </tr>\n",
       "    <tr>\n",
       "      <th>4</th>\n",
       "      <td>80 a 84 anos</td>\n",
       "      <td>35159300</td>\n",
       "      <td>-22625000</td>\n",
       "      <td>São Paulo</td>\n",
       "    </tr>\n",
       "    <tr>\n",
       "      <th>5</th>\n",
       "      <td>75 a 79 anos</td>\n",
       "      <td>53381000</td>\n",
       "      <td>-37938700</td>\n",
       "      <td>São Paulo</td>\n",
       "    </tr>\n",
       "    <tr>\n",
       "      <th>6</th>\n",
       "      <td>70 a 74 anos</td>\n",
       "      <td>79549700</td>\n",
       "      <td>-60845500</td>\n",
       "      <td>São Paulo</td>\n",
       "    </tr>\n",
       "    <tr>\n",
       "      <th>7</th>\n",
       "      <td>65 a 69 anos</td>\n",
       "      <td>105443700</td>\n",
       "      <td>-84624400</td>\n",
       "      <td>São Paulo</td>\n",
       "    </tr>\n",
       "    <tr>\n",
       "      <th>8</th>\n",
       "      <td>60 a 64 anos</td>\n",
       "      <td>129494800</td>\n",
       "      <td>-107043400</td>\n",
       "      <td>São Paulo</td>\n",
       "    </tr>\n",
       "    <tr>\n",
       "      <th>9</th>\n",
       "      <td>55 a 59 anos</td>\n",
       "      <td>143378000</td>\n",
       "      <td>-123349700</td>\n",
       "      <td>São Paulo</td>\n",
       "    </tr>\n",
       "    <tr>\n",
       "      <th>10</th>\n",
       "      <td>50 a 54 anos</td>\n",
       "      <td>153493000</td>\n",
       "      <td>-137511000</td>\n",
       "      <td>São Paulo</td>\n",
       "    </tr>\n",
       "    <tr>\n",
       "      <th>11</th>\n",
       "      <td>45 a 49 anos</td>\n",
       "      <td>163916400</td>\n",
       "      <td>-148708100</td>\n",
       "      <td>São Paulo</td>\n",
       "    </tr>\n",
       "    <tr>\n",
       "      <th>12</th>\n",
       "      <td>40 a 44 anos</td>\n",
       "      <td>190285600</td>\n",
       "      <td>-176449600</td>\n",
       "      <td>São Paulo</td>\n",
       "    </tr>\n",
       "    <tr>\n",
       "      <th>13</th>\n",
       "      <td>35 a 39 anos</td>\n",
       "      <td>187316500</td>\n",
       "      <td>-176351400</td>\n",
       "      <td>São Paulo</td>\n",
       "    </tr>\n",
       "    <tr>\n",
       "      <th>14</th>\n",
       "      <td>30 a 34 anos</td>\n",
       "      <td>173052700</td>\n",
       "      <td>-167273900</td>\n",
       "      <td>São Paulo</td>\n",
       "    </tr>\n",
       "    <tr>\n",
       "      <th>15</th>\n",
       "      <td>25 a 29 anos</td>\n",
       "      <td>165547300</td>\n",
       "      <td>-165067000</td>\n",
       "      <td>São Paulo</td>\n",
       "    </tr>\n",
       "    <tr>\n",
       "      <th>16</th>\n",
       "      <td>20 a 24 anos</td>\n",
       "      <td>158409100</td>\n",
       "      <td>-162674500</td>\n",
       "      <td>São Paulo</td>\n",
       "    </tr>\n",
       "    <tr>\n",
       "      <th>17</th>\n",
       "      <td>15 a 19 anos</td>\n",
       "      <td>139681600</td>\n",
       "      <td>-146085300</td>\n",
       "      <td>São Paulo</td>\n",
       "    </tr>\n",
       "    <tr>\n",
       "      <th>18</th>\n",
       "      <td>10 a 14 anos</td>\n",
       "      <td>133498000</td>\n",
       "      <td>-139723600</td>\n",
       "      <td>São Paulo</td>\n",
       "    </tr>\n",
       "    <tr>\n",
       "      <th>19</th>\n",
       "      <td>5 a 9 anos</td>\n",
       "      <td>136013000</td>\n",
       "      <td>-141524700</td>\n",
       "      <td>São Paulo</td>\n",
       "    </tr>\n",
       "    <tr>\n",
       "      <th>20</th>\n",
       "      <td>0 a 4 anos</td>\n",
       "      <td>121157200</td>\n",
       "      <td>-125599800</td>\n",
       "      <td>São Paulo</td>\n",
       "    </tr>\n",
       "  </tbody>\n",
       "</table>\n",
       "</div>"
      ],
      "text/plain": [
       "      Grupo de idade    Popfem2    Popmasc Unidade da Federação\n",
       "0   100 anos ou mais     395600    -113900            São Paulo\n",
       "1       95 a 99 anos    2563500    -923700            São Paulo\n",
       "2       90 a 94 anos    9390700   -4190000            São Paulo\n",
       "3       85 a 89 anos   20359500  -11014400            São Paulo\n",
       "4       80 a 84 anos   35159300  -22625000            São Paulo\n",
       "5       75 a 79 anos   53381000  -37938700            São Paulo\n",
       "6       70 a 74 anos   79549700  -60845500            São Paulo\n",
       "7       65 a 69 anos  105443700  -84624400            São Paulo\n",
       "8       60 a 64 anos  129494800 -107043400            São Paulo\n",
       "9       55 a 59 anos  143378000 -123349700            São Paulo\n",
       "10      50 a 54 anos  153493000 -137511000            São Paulo\n",
       "11      45 a 49 anos  163916400 -148708100            São Paulo\n",
       "12      40 a 44 anos  190285600 -176449600            São Paulo\n",
       "13      35 a 39 anos  187316500 -176351400            São Paulo\n",
       "14      30 a 34 anos  173052700 -167273900            São Paulo\n",
       "15      25 a 29 anos  165547300 -165067000            São Paulo\n",
       "16      20 a 24 anos  158409100 -162674500            São Paulo\n",
       "17      15 a 19 anos  139681600 -146085300            São Paulo\n",
       "18      10 a 14 anos  133498000 -139723600            São Paulo\n",
       "19        5 a 9 anos  136013000 -141524700            São Paulo\n",
       "20        0 a 4 anos  121157200 -125599800            São Paulo"
      ]
     },
     "execution_count": 10,
     "metadata": {},
     "output_type": "execute_result"
    }
   ],
   "source": [
    "dados_cit2_r"
   ]
  },
  {
   "cell_type": "code",
   "execution_count": 11,
   "id": "b944ef62",
   "metadata": {},
   "outputs": [
    {
     "data": {
      "text/html": [
       "<div>\n",
       "<style scoped>\n",
       "    .dataframe tbody tr th:only-of-type {\n",
       "        vertical-align: middle;\n",
       "    }\n",
       "\n",
       "    .dataframe tbody tr th {\n",
       "        vertical-align: top;\n",
       "    }\n",
       "\n",
       "    .dataframe thead th {\n",
       "        text-align: right;\n",
       "    }\n",
       "</style>\n",
       "<table border=\"1\" class=\"dataframe\">\n",
       "  <thead>\n",
       "    <tr style=\"text-align: right;\">\n",
       "      <th></th>\n",
       "      <th>Grupo de idade</th>\n",
       "      <th>População feminina(pessoas)</th>\n",
       "      <th>População masculina(pessoas)</th>\n",
       "      <th>Unidade da Federação</th>\n",
       "    </tr>\n",
       "  </thead>\n",
       "  <tbody>\n",
       "    <tr>\n",
       "      <th>0</th>\n",
       "      <td>100 anos ou mais</td>\n",
       "      <td>2225</td>\n",
       "      <td>487</td>\n",
       "      <td>Rio de Janeiro</td>\n",
       "    </tr>\n",
       "    <tr>\n",
       "      <th>1</th>\n",
       "      <td>95 a 99 anos</td>\n",
       "      <td>12142</td>\n",
       "      <td>3658</td>\n",
       "      <td>Rio de Janeiro</td>\n",
       "    </tr>\n",
       "    <tr>\n",
       "      <th>2</th>\n",
       "      <td>90 a 94 anos</td>\n",
       "      <td>41789</td>\n",
       "      <td>16196</td>\n",
       "      <td>Rio de Janeiro</td>\n",
       "    </tr>\n",
       "    <tr>\n",
       "      <th>3</th>\n",
       "      <td>85 a 89 anos</td>\n",
       "      <td>86521</td>\n",
       "      <td>41692</td>\n",
       "      <td>Rio de Janeiro</td>\n",
       "    </tr>\n",
       "    <tr>\n",
       "      <th>4</th>\n",
       "      <td>80 a 84 anos</td>\n",
       "      <td>144783</td>\n",
       "      <td>84593</td>\n",
       "      <td>Rio de Janeiro</td>\n",
       "    </tr>\n",
       "    <tr>\n",
       "      <th>5</th>\n",
       "      <td>75 a 79 anos</td>\n",
       "      <td>213426</td>\n",
       "      <td>140230</td>\n",
       "      <td>Rio de Janeiro</td>\n",
       "    </tr>\n",
       "    <tr>\n",
       "      <th>6</th>\n",
       "      <td>70 a 74 anos</td>\n",
       "      <td>324420</td>\n",
       "      <td>235212</td>\n",
       "      <td>Rio de Janeiro</td>\n",
       "    </tr>\n",
       "    <tr>\n",
       "      <th>7</th>\n",
       "      <td>65 a 69 anos</td>\n",
       "      <td>428087</td>\n",
       "      <td>327730</td>\n",
       "      <td>Rio de Janeiro</td>\n",
       "    </tr>\n",
       "    <tr>\n",
       "      <th>8</th>\n",
       "      <td>60 a 64 anos</td>\n",
       "      <td>509851</td>\n",
       "      <td>412587</td>\n",
       "      <td>Rio de Janeiro</td>\n",
       "    </tr>\n",
       "    <tr>\n",
       "      <th>9</th>\n",
       "      <td>55 a 59 anos</td>\n",
       "      <td>548769</td>\n",
       "      <td>461606</td>\n",
       "      <td>Rio de Janeiro</td>\n",
       "    </tr>\n",
       "    <tr>\n",
       "      <th>10</th>\n",
       "      <td>50 a 54 anos</td>\n",
       "      <td>568264</td>\n",
       "      <td>494486</td>\n",
       "      <td>Rio de Janeiro</td>\n",
       "    </tr>\n",
       "    <tr>\n",
       "      <th>11</th>\n",
       "      <td>45 a 49 anos</td>\n",
       "      <td>589057</td>\n",
       "      <td>519365</td>\n",
       "      <td>Rio de Janeiro</td>\n",
       "    </tr>\n",
       "    <tr>\n",
       "      <th>12</th>\n",
       "      <td>40 a 44 anos</td>\n",
       "      <td>680728</td>\n",
       "      <td>612313</td>\n",
       "      <td>Rio de Janeiro</td>\n",
       "    </tr>\n",
       "    <tr>\n",
       "      <th>13</th>\n",
       "      <td>35 a 39 anos</td>\n",
       "      <td>641328</td>\n",
       "      <td>573236</td>\n",
       "      <td>Rio de Janeiro</td>\n",
       "    </tr>\n",
       "    <tr>\n",
       "      <th>14</th>\n",
       "      <td>30 a 34 anos</td>\n",
       "      <td>607630</td>\n",
       "      <td>554702</td>\n",
       "      <td>Rio de Janeiro</td>\n",
       "    </tr>\n",
       "    <tr>\n",
       "      <th>15</th>\n",
       "      <td>25 a 29 anos</td>\n",
       "      <td>600367</td>\n",
       "      <td>560559</td>\n",
       "      <td>Rio de Janeiro</td>\n",
       "    </tr>\n",
       "    <tr>\n",
       "      <th>16</th>\n",
       "      <td>20 a 24 anos</td>\n",
       "      <td>578934</td>\n",
       "      <td>570077</td>\n",
       "      <td>Rio de Janeiro</td>\n",
       "    </tr>\n",
       "    <tr>\n",
       "      <th>17</th>\n",
       "      <td>15 a 19 anos</td>\n",
       "      <td>498039</td>\n",
       "      <td>513939</td>\n",
       "      <td>Rio de Janeiro</td>\n",
       "    </tr>\n",
       "    <tr>\n",
       "      <th>18</th>\n",
       "      <td>10 a 14 anos</td>\n",
       "      <td>470169</td>\n",
       "      <td>494467</td>\n",
       "      <td>Rio de Janeiro</td>\n",
       "    </tr>\n",
       "    <tr>\n",
       "      <th>19</th>\n",
       "      <td>5 a 9 anos</td>\n",
       "      <td>498295</td>\n",
       "      <td>517446</td>\n",
       "      <td>Rio de Janeiro</td>\n",
       "    </tr>\n",
       "    <tr>\n",
       "      <th>20</th>\n",
       "      <td>0 a 4 anos</td>\n",
       "      <td>432675</td>\n",
       "      <td>443094</td>\n",
       "      <td>Rio de Janeiro</td>\n",
       "    </tr>\n",
       "  </tbody>\n",
       "</table>\n",
       "</div>"
      ],
      "text/plain": [
       "      Grupo de idade  População feminina(pessoas)  \\\n",
       "0   100 anos ou mais                         2225   \n",
       "1       95 a 99 anos                        12142   \n",
       "2       90 a 94 anos                        41789   \n",
       "3       85 a 89 anos                        86521   \n",
       "4       80 a 84 anos                       144783   \n",
       "5       75 a 79 anos                       213426   \n",
       "6       70 a 74 anos                       324420   \n",
       "7       65 a 69 anos                       428087   \n",
       "8       60 a 64 anos                       509851   \n",
       "9       55 a 59 anos                       548769   \n",
       "10      50 a 54 anos                       568264   \n",
       "11      45 a 49 anos                       589057   \n",
       "12      40 a 44 anos                       680728   \n",
       "13      35 a 39 anos                       641328   \n",
       "14      30 a 34 anos                       607630   \n",
       "15      25 a 29 anos                       600367   \n",
       "16      20 a 24 anos                       578934   \n",
       "17      15 a 19 anos                       498039   \n",
       "18      10 a 14 anos                       470169   \n",
       "19        5 a 9 anos                       498295   \n",
       "20        0 a 4 anos                       432675   \n",
       "\n",
       "    População masculina(pessoas) Unidade da Federação  \n",
       "0                            487       Rio de Janeiro  \n",
       "1                           3658       Rio de Janeiro  \n",
       "2                          16196       Rio de Janeiro  \n",
       "3                          41692       Rio de Janeiro  \n",
       "4                          84593       Rio de Janeiro  \n",
       "5                         140230       Rio de Janeiro  \n",
       "6                         235212       Rio de Janeiro  \n",
       "7                         327730       Rio de Janeiro  \n",
       "8                         412587       Rio de Janeiro  \n",
       "9                         461606       Rio de Janeiro  \n",
       "10                        494486       Rio de Janeiro  \n",
       "11                        519365       Rio de Janeiro  \n",
       "12                        612313       Rio de Janeiro  \n",
       "13                        573236       Rio de Janeiro  \n",
       "14                        554702       Rio de Janeiro  \n",
       "15                        560559       Rio de Janeiro  \n",
       "16                        570077       Rio de Janeiro  \n",
       "17                        513939       Rio de Janeiro  \n",
       "18                        494467       Rio de Janeiro  \n",
       "19                        517446       Rio de Janeiro  \n",
       "20                        443094       Rio de Janeiro  "
      ]
     },
     "execution_count": 11,
     "metadata": {},
     "output_type": "execute_result"
    }
   ],
   "source": [
    "dados_cit1 "
   ]
  },
  {
   "cell_type": "code",
   "execution_count": 12,
   "id": "988d3c3e",
   "metadata": {},
   "outputs": [],
   "source": [
    "dados_cit1[\"popfem_rio\"] = dados_cit1[\"População feminina(pessoas)\"] * -100\n",
    "dados_cit1[\"popfem_rio\"] = dados_cit1[\"popfem_rio\"].abs()"
   ]
  },
  {
   "cell_type": "code",
   "execution_count": 13,
   "id": "4750c5ea",
   "metadata": {},
   "outputs": [
    {
     "data": {
      "text/html": [
       "<div>\n",
       "<style scoped>\n",
       "    .dataframe tbody tr th:only-of-type {\n",
       "        vertical-align: middle;\n",
       "    }\n",
       "\n",
       "    .dataframe tbody tr th {\n",
       "        vertical-align: top;\n",
       "    }\n",
       "\n",
       "    .dataframe thead th {\n",
       "        text-align: right;\n",
       "    }\n",
       "</style>\n",
       "<table border=\"1\" class=\"dataframe\">\n",
       "  <thead>\n",
       "    <tr style=\"text-align: right;\">\n",
       "      <th></th>\n",
       "      <th>Grupo de idade</th>\n",
       "      <th>População feminina(pessoas)</th>\n",
       "      <th>População masculina(pessoas)</th>\n",
       "      <th>Unidade da Federação</th>\n",
       "      <th>popfem_rio</th>\n",
       "      <th>popmasc_rio</th>\n",
       "    </tr>\n",
       "  </thead>\n",
       "  <tbody>\n",
       "    <tr>\n",
       "      <th>0</th>\n",
       "      <td>100 anos ou mais</td>\n",
       "      <td>2225</td>\n",
       "      <td>487</td>\n",
       "      <td>Rio de Janeiro</td>\n",
       "      <td>222500</td>\n",
       "      <td>-48700</td>\n",
       "    </tr>\n",
       "    <tr>\n",
       "      <th>1</th>\n",
       "      <td>95 a 99 anos</td>\n",
       "      <td>12142</td>\n",
       "      <td>3658</td>\n",
       "      <td>Rio de Janeiro</td>\n",
       "      <td>1214200</td>\n",
       "      <td>-365800</td>\n",
       "    </tr>\n",
       "    <tr>\n",
       "      <th>2</th>\n",
       "      <td>90 a 94 anos</td>\n",
       "      <td>41789</td>\n",
       "      <td>16196</td>\n",
       "      <td>Rio de Janeiro</td>\n",
       "      <td>4178900</td>\n",
       "      <td>-1619600</td>\n",
       "    </tr>\n",
       "    <tr>\n",
       "      <th>3</th>\n",
       "      <td>85 a 89 anos</td>\n",
       "      <td>86521</td>\n",
       "      <td>41692</td>\n",
       "      <td>Rio de Janeiro</td>\n",
       "      <td>8652100</td>\n",
       "      <td>-4169200</td>\n",
       "    </tr>\n",
       "    <tr>\n",
       "      <th>4</th>\n",
       "      <td>80 a 84 anos</td>\n",
       "      <td>144783</td>\n",
       "      <td>84593</td>\n",
       "      <td>Rio de Janeiro</td>\n",
       "      <td>14478300</td>\n",
       "      <td>-8459300</td>\n",
       "    </tr>\n",
       "    <tr>\n",
       "      <th>5</th>\n",
       "      <td>75 a 79 anos</td>\n",
       "      <td>213426</td>\n",
       "      <td>140230</td>\n",
       "      <td>Rio de Janeiro</td>\n",
       "      <td>21342600</td>\n",
       "      <td>-14023000</td>\n",
       "    </tr>\n",
       "    <tr>\n",
       "      <th>6</th>\n",
       "      <td>70 a 74 anos</td>\n",
       "      <td>324420</td>\n",
       "      <td>235212</td>\n",
       "      <td>Rio de Janeiro</td>\n",
       "      <td>32442000</td>\n",
       "      <td>-23521200</td>\n",
       "    </tr>\n",
       "    <tr>\n",
       "      <th>7</th>\n",
       "      <td>65 a 69 anos</td>\n",
       "      <td>428087</td>\n",
       "      <td>327730</td>\n",
       "      <td>Rio de Janeiro</td>\n",
       "      <td>42808700</td>\n",
       "      <td>-32773000</td>\n",
       "    </tr>\n",
       "    <tr>\n",
       "      <th>8</th>\n",
       "      <td>60 a 64 anos</td>\n",
       "      <td>509851</td>\n",
       "      <td>412587</td>\n",
       "      <td>Rio de Janeiro</td>\n",
       "      <td>50985100</td>\n",
       "      <td>-41258700</td>\n",
       "    </tr>\n",
       "    <tr>\n",
       "      <th>9</th>\n",
       "      <td>55 a 59 anos</td>\n",
       "      <td>548769</td>\n",
       "      <td>461606</td>\n",
       "      <td>Rio de Janeiro</td>\n",
       "      <td>54876900</td>\n",
       "      <td>-46160600</td>\n",
       "    </tr>\n",
       "    <tr>\n",
       "      <th>10</th>\n",
       "      <td>50 a 54 anos</td>\n",
       "      <td>568264</td>\n",
       "      <td>494486</td>\n",
       "      <td>Rio de Janeiro</td>\n",
       "      <td>56826400</td>\n",
       "      <td>-49448600</td>\n",
       "    </tr>\n",
       "    <tr>\n",
       "      <th>11</th>\n",
       "      <td>45 a 49 anos</td>\n",
       "      <td>589057</td>\n",
       "      <td>519365</td>\n",
       "      <td>Rio de Janeiro</td>\n",
       "      <td>58905700</td>\n",
       "      <td>-51936500</td>\n",
       "    </tr>\n",
       "    <tr>\n",
       "      <th>12</th>\n",
       "      <td>40 a 44 anos</td>\n",
       "      <td>680728</td>\n",
       "      <td>612313</td>\n",
       "      <td>Rio de Janeiro</td>\n",
       "      <td>68072800</td>\n",
       "      <td>-61231300</td>\n",
       "    </tr>\n",
       "    <tr>\n",
       "      <th>13</th>\n",
       "      <td>35 a 39 anos</td>\n",
       "      <td>641328</td>\n",
       "      <td>573236</td>\n",
       "      <td>Rio de Janeiro</td>\n",
       "      <td>64132800</td>\n",
       "      <td>-57323600</td>\n",
       "    </tr>\n",
       "    <tr>\n",
       "      <th>14</th>\n",
       "      <td>30 a 34 anos</td>\n",
       "      <td>607630</td>\n",
       "      <td>554702</td>\n",
       "      <td>Rio de Janeiro</td>\n",
       "      <td>60763000</td>\n",
       "      <td>-55470200</td>\n",
       "    </tr>\n",
       "    <tr>\n",
       "      <th>15</th>\n",
       "      <td>25 a 29 anos</td>\n",
       "      <td>600367</td>\n",
       "      <td>560559</td>\n",
       "      <td>Rio de Janeiro</td>\n",
       "      <td>60036700</td>\n",
       "      <td>-56055900</td>\n",
       "    </tr>\n",
       "    <tr>\n",
       "      <th>16</th>\n",
       "      <td>20 a 24 anos</td>\n",
       "      <td>578934</td>\n",
       "      <td>570077</td>\n",
       "      <td>Rio de Janeiro</td>\n",
       "      <td>57893400</td>\n",
       "      <td>-57007700</td>\n",
       "    </tr>\n",
       "    <tr>\n",
       "      <th>17</th>\n",
       "      <td>15 a 19 anos</td>\n",
       "      <td>498039</td>\n",
       "      <td>513939</td>\n",
       "      <td>Rio de Janeiro</td>\n",
       "      <td>49803900</td>\n",
       "      <td>-51393900</td>\n",
       "    </tr>\n",
       "    <tr>\n",
       "      <th>18</th>\n",
       "      <td>10 a 14 anos</td>\n",
       "      <td>470169</td>\n",
       "      <td>494467</td>\n",
       "      <td>Rio de Janeiro</td>\n",
       "      <td>47016900</td>\n",
       "      <td>-49446700</td>\n",
       "    </tr>\n",
       "    <tr>\n",
       "      <th>19</th>\n",
       "      <td>5 a 9 anos</td>\n",
       "      <td>498295</td>\n",
       "      <td>517446</td>\n",
       "      <td>Rio de Janeiro</td>\n",
       "      <td>49829500</td>\n",
       "      <td>-51744600</td>\n",
       "    </tr>\n",
       "    <tr>\n",
       "      <th>20</th>\n",
       "      <td>0 a 4 anos</td>\n",
       "      <td>432675</td>\n",
       "      <td>443094</td>\n",
       "      <td>Rio de Janeiro</td>\n",
       "      <td>43267500</td>\n",
       "      <td>-44309400</td>\n",
       "    </tr>\n",
       "  </tbody>\n",
       "</table>\n",
       "</div>"
      ],
      "text/plain": [
       "      Grupo de idade  População feminina(pessoas)  \\\n",
       "0   100 anos ou mais                         2225   \n",
       "1       95 a 99 anos                        12142   \n",
       "2       90 a 94 anos                        41789   \n",
       "3       85 a 89 anos                        86521   \n",
       "4       80 a 84 anos                       144783   \n",
       "5       75 a 79 anos                       213426   \n",
       "6       70 a 74 anos                       324420   \n",
       "7       65 a 69 anos                       428087   \n",
       "8       60 a 64 anos                       509851   \n",
       "9       55 a 59 anos                       548769   \n",
       "10      50 a 54 anos                       568264   \n",
       "11      45 a 49 anos                       589057   \n",
       "12      40 a 44 anos                       680728   \n",
       "13      35 a 39 anos                       641328   \n",
       "14      30 a 34 anos                       607630   \n",
       "15      25 a 29 anos                       600367   \n",
       "16      20 a 24 anos                       578934   \n",
       "17      15 a 19 anos                       498039   \n",
       "18      10 a 14 anos                       470169   \n",
       "19        5 a 9 anos                       498295   \n",
       "20        0 a 4 anos                       432675   \n",
       "\n",
       "    População masculina(pessoas) Unidade da Federação  popfem_rio  popmasc_rio  \n",
       "0                            487       Rio de Janeiro      222500       -48700  \n",
       "1                           3658       Rio de Janeiro     1214200      -365800  \n",
       "2                          16196       Rio de Janeiro     4178900     -1619600  \n",
       "3                          41692       Rio de Janeiro     8652100     -4169200  \n",
       "4                          84593       Rio de Janeiro    14478300     -8459300  \n",
       "5                         140230       Rio de Janeiro    21342600    -14023000  \n",
       "6                         235212       Rio de Janeiro    32442000    -23521200  \n",
       "7                         327730       Rio de Janeiro    42808700    -32773000  \n",
       "8                         412587       Rio de Janeiro    50985100    -41258700  \n",
       "9                         461606       Rio de Janeiro    54876900    -46160600  \n",
       "10                        494486       Rio de Janeiro    56826400    -49448600  \n",
       "11                        519365       Rio de Janeiro    58905700    -51936500  \n",
       "12                        612313       Rio de Janeiro    68072800    -61231300  \n",
       "13                        573236       Rio de Janeiro    64132800    -57323600  \n",
       "14                        554702       Rio de Janeiro    60763000    -55470200  \n",
       "15                        560559       Rio de Janeiro    60036700    -56055900  \n",
       "16                        570077       Rio de Janeiro    57893400    -57007700  \n",
       "17                        513939       Rio de Janeiro    49803900    -51393900  \n",
       "18                        494467       Rio de Janeiro    47016900    -49446700  \n",
       "19                        517446       Rio de Janeiro    49829500    -51744600  \n",
       "20                        443094       Rio de Janeiro    43267500    -44309400  "
      ]
     },
     "execution_count": 13,
     "metadata": {},
     "output_type": "execute_result"
    }
   ],
   "source": [
    "dados_cit1[\"popmasc_rio\"] = dados_cit1[\"População masculina(pessoas)\"] *-100\n",
    "dados_cit1\n"
   ]
  },
  {
   "cell_type": "code",
   "execution_count": 14,
   "id": "e1c938b0",
   "metadata": {},
   "outputs": [
    {
     "data": {
      "text/html": [
       "<div>\n",
       "<style scoped>\n",
       "    .dataframe tbody tr th:only-of-type {\n",
       "        vertical-align: middle;\n",
       "    }\n",
       "\n",
       "    .dataframe tbody tr th {\n",
       "        vertical-align: top;\n",
       "    }\n",
       "\n",
       "    .dataframe thead th {\n",
       "        text-align: right;\n",
       "    }\n",
       "</style>\n",
       "<table border=\"1\" class=\"dataframe\">\n",
       "  <thead>\n",
       "    <tr style=\"text-align: right;\">\n",
       "      <th></th>\n",
       "      <th>Grupo de idade</th>\n",
       "      <th>Unidade da Federação</th>\n",
       "      <th>popfem_rio</th>\n",
       "      <th>popmasc_rio</th>\n",
       "    </tr>\n",
       "  </thead>\n",
       "  <tbody>\n",
       "    <tr>\n",
       "      <th>0</th>\n",
       "      <td>100 anos ou mais</td>\n",
       "      <td>Rio de Janeiro</td>\n",
       "      <td>222500</td>\n",
       "      <td>-48700</td>\n",
       "    </tr>\n",
       "    <tr>\n",
       "      <th>1</th>\n",
       "      <td>95 a 99 anos</td>\n",
       "      <td>Rio de Janeiro</td>\n",
       "      <td>1214200</td>\n",
       "      <td>-365800</td>\n",
       "    </tr>\n",
       "    <tr>\n",
       "      <th>2</th>\n",
       "      <td>90 a 94 anos</td>\n",
       "      <td>Rio de Janeiro</td>\n",
       "      <td>4178900</td>\n",
       "      <td>-1619600</td>\n",
       "    </tr>\n",
       "    <tr>\n",
       "      <th>3</th>\n",
       "      <td>85 a 89 anos</td>\n",
       "      <td>Rio de Janeiro</td>\n",
       "      <td>8652100</td>\n",
       "      <td>-4169200</td>\n",
       "    </tr>\n",
       "    <tr>\n",
       "      <th>4</th>\n",
       "      <td>80 a 84 anos</td>\n",
       "      <td>Rio de Janeiro</td>\n",
       "      <td>14478300</td>\n",
       "      <td>-8459300</td>\n",
       "    </tr>\n",
       "    <tr>\n",
       "      <th>5</th>\n",
       "      <td>75 a 79 anos</td>\n",
       "      <td>Rio de Janeiro</td>\n",
       "      <td>21342600</td>\n",
       "      <td>-14023000</td>\n",
       "    </tr>\n",
       "    <tr>\n",
       "      <th>6</th>\n",
       "      <td>70 a 74 anos</td>\n",
       "      <td>Rio de Janeiro</td>\n",
       "      <td>32442000</td>\n",
       "      <td>-23521200</td>\n",
       "    </tr>\n",
       "    <tr>\n",
       "      <th>7</th>\n",
       "      <td>65 a 69 anos</td>\n",
       "      <td>Rio de Janeiro</td>\n",
       "      <td>42808700</td>\n",
       "      <td>-32773000</td>\n",
       "    </tr>\n",
       "    <tr>\n",
       "      <th>8</th>\n",
       "      <td>60 a 64 anos</td>\n",
       "      <td>Rio de Janeiro</td>\n",
       "      <td>50985100</td>\n",
       "      <td>-41258700</td>\n",
       "    </tr>\n",
       "    <tr>\n",
       "      <th>9</th>\n",
       "      <td>55 a 59 anos</td>\n",
       "      <td>Rio de Janeiro</td>\n",
       "      <td>54876900</td>\n",
       "      <td>-46160600</td>\n",
       "    </tr>\n",
       "    <tr>\n",
       "      <th>10</th>\n",
       "      <td>50 a 54 anos</td>\n",
       "      <td>Rio de Janeiro</td>\n",
       "      <td>56826400</td>\n",
       "      <td>-49448600</td>\n",
       "    </tr>\n",
       "    <tr>\n",
       "      <th>11</th>\n",
       "      <td>45 a 49 anos</td>\n",
       "      <td>Rio de Janeiro</td>\n",
       "      <td>58905700</td>\n",
       "      <td>-51936500</td>\n",
       "    </tr>\n",
       "    <tr>\n",
       "      <th>12</th>\n",
       "      <td>40 a 44 anos</td>\n",
       "      <td>Rio de Janeiro</td>\n",
       "      <td>68072800</td>\n",
       "      <td>-61231300</td>\n",
       "    </tr>\n",
       "    <tr>\n",
       "      <th>13</th>\n",
       "      <td>35 a 39 anos</td>\n",
       "      <td>Rio de Janeiro</td>\n",
       "      <td>64132800</td>\n",
       "      <td>-57323600</td>\n",
       "    </tr>\n",
       "    <tr>\n",
       "      <th>14</th>\n",
       "      <td>30 a 34 anos</td>\n",
       "      <td>Rio de Janeiro</td>\n",
       "      <td>60763000</td>\n",
       "      <td>-55470200</td>\n",
       "    </tr>\n",
       "    <tr>\n",
       "      <th>15</th>\n",
       "      <td>25 a 29 anos</td>\n",
       "      <td>Rio de Janeiro</td>\n",
       "      <td>60036700</td>\n",
       "      <td>-56055900</td>\n",
       "    </tr>\n",
       "    <tr>\n",
       "      <th>16</th>\n",
       "      <td>20 a 24 anos</td>\n",
       "      <td>Rio de Janeiro</td>\n",
       "      <td>57893400</td>\n",
       "      <td>-57007700</td>\n",
       "    </tr>\n",
       "    <tr>\n",
       "      <th>17</th>\n",
       "      <td>15 a 19 anos</td>\n",
       "      <td>Rio de Janeiro</td>\n",
       "      <td>49803900</td>\n",
       "      <td>-51393900</td>\n",
       "    </tr>\n",
       "    <tr>\n",
       "      <th>18</th>\n",
       "      <td>10 a 14 anos</td>\n",
       "      <td>Rio de Janeiro</td>\n",
       "      <td>47016900</td>\n",
       "      <td>-49446700</td>\n",
       "    </tr>\n",
       "    <tr>\n",
       "      <th>19</th>\n",
       "      <td>5 a 9 anos</td>\n",
       "      <td>Rio de Janeiro</td>\n",
       "      <td>49829500</td>\n",
       "      <td>-51744600</td>\n",
       "    </tr>\n",
       "    <tr>\n",
       "      <th>20</th>\n",
       "      <td>0 a 4 anos</td>\n",
       "      <td>Rio de Janeiro</td>\n",
       "      <td>43267500</td>\n",
       "      <td>-44309400</td>\n",
       "    </tr>\n",
       "  </tbody>\n",
       "</table>\n",
       "</div>"
      ],
      "text/plain": [
       "      Grupo de idade Unidade da Federação  popfem_rio  popmasc_rio\n",
       "0   100 anos ou mais       Rio de Janeiro      222500       -48700\n",
       "1       95 a 99 anos       Rio de Janeiro     1214200      -365800\n",
       "2       90 a 94 anos       Rio de Janeiro     4178900     -1619600\n",
       "3       85 a 89 anos       Rio de Janeiro     8652100     -4169200\n",
       "4       80 a 84 anos       Rio de Janeiro    14478300     -8459300\n",
       "5       75 a 79 anos       Rio de Janeiro    21342600    -14023000\n",
       "6       70 a 74 anos       Rio de Janeiro    32442000    -23521200\n",
       "7       65 a 69 anos       Rio de Janeiro    42808700    -32773000\n",
       "8       60 a 64 anos       Rio de Janeiro    50985100    -41258700\n",
       "9       55 a 59 anos       Rio de Janeiro    54876900    -46160600\n",
       "10      50 a 54 anos       Rio de Janeiro    56826400    -49448600\n",
       "11      45 a 49 anos       Rio de Janeiro    58905700    -51936500\n",
       "12      40 a 44 anos       Rio de Janeiro    68072800    -61231300\n",
       "13      35 a 39 anos       Rio de Janeiro    64132800    -57323600\n",
       "14      30 a 34 anos       Rio de Janeiro    60763000    -55470200\n",
       "15      25 a 29 anos       Rio de Janeiro    60036700    -56055900\n",
       "16      20 a 24 anos       Rio de Janeiro    57893400    -57007700\n",
       "17      15 a 19 anos       Rio de Janeiro    49803900    -51393900\n",
       "18      10 a 14 anos       Rio de Janeiro    47016900    -49446700\n",
       "19        5 a 9 anos       Rio de Janeiro    49829500    -51744600\n",
       "20        0 a 4 anos       Rio de Janeiro    43267500    -44309400"
      ]
     },
     "execution_count": 14,
     "metadata": {},
     "output_type": "execute_result"
    }
   ],
   "source": [
    "dados_cit1.drop([\"População feminina(pessoas)\", \"População masculina(pessoas)\"], axis= 1)"
   ]
  },
  {
   "cell_type": "code",
   "execution_count": 15,
   "id": "03a5cd48",
   "metadata": {},
   "outputs": [],
   "source": [
    "dados_cit1_r = dados_cit1[[\"Grupo de idade\",\"popfem_rio\", \"popmasc_rio\", \"Unidade da Federação\" ]]"
   ]
  },
  {
   "cell_type": "code",
   "execution_count": 20,
   "id": "d338bb7e",
   "metadata": {},
   "outputs": [
    {
     "data": {
      "application/vnd.plotly.v1+json": {
       "config": {
        "plotlyServerURL": "https://plot.ly"
       },
       "data": [
        {
         "marker": {
          "color": "yellow"
         },
         "name": "População Feminina Rio de Janeiro",
         "orientation": "h",
         "type": "bar",
         "x": [
          222500,
          1214200,
          4178900,
          8652100,
          14478300,
          21342600,
          32442000,
          42808700,
          50985100,
          54876900,
          56826400,
          58905700,
          68072800,
          64132800,
          60763000,
          60036700,
          57893400,
          49803900,
          47016900,
          49829500,
          43267500
         ],
         "y": [
          "100 anos ou mais",
          "95 a 99 anos",
          "90 a 94 anos",
          "85 a 89 anos",
          "80 a 84 anos",
          "75 a 79 anos",
          "70 a 74 anos",
          "65 a 69 anos",
          "60 a 64 anos",
          "55 a 59 anos",
          "50 a 54 anos",
          "45 a 49 anos",
          "40 a 44 anos",
          "35 a 39 anos",
          "30 a 34 anos",
          "25 a 29 anos",
          "20 a 24 anos",
          "15 a 19 anos",
          "10 a 14 anos",
          "5 a 9 anos",
          "0 a 4 anos"
         ]
        },
        {
         "marker": {
          "color": "green"
         },
         "name": "População Masculina Rio de Janeiro",
         "orientation": "h",
         "type": "bar",
         "x": [
          -48700,
          -365800,
          -1619600,
          -4169200,
          -8459300,
          -14023000,
          -23521200,
          -32773000,
          -41258700,
          -46160600,
          -49448600,
          -51936500,
          -61231300,
          -57323600,
          -55470200,
          -56055900,
          -57007700,
          -51393900,
          -49446700,
          -51744600,
          -44309400
         ],
         "y": [
          "100 anos ou mais",
          "95 a 99 anos",
          "90 a 94 anos",
          "85 a 89 anos",
          "80 a 84 anos",
          "75 a 79 anos",
          "70 a 74 anos",
          "65 a 69 anos",
          "60 a 64 anos",
          "55 a 59 anos",
          "50 a 54 anos",
          "45 a 49 anos",
          "40 a 44 anos",
          "35 a 39 anos",
          "30 a 34 anos",
          "25 a 29 anos",
          "20 a 24 anos",
          "15 a 19 anos",
          "10 a 14 anos",
          "5 a 9 anos",
          "0 a 4 anos"
         ]
        }
       ],
       "layout": {
        "bargap": 0.1,
        "bargroupgap": 0.05,
        "barmode": "relative",
        "template": {
         "data": {
          "bar": [
           {
            "error_x": {
             "color": "#2a3f5f"
            },
            "error_y": {
             "color": "#2a3f5f"
            },
            "marker": {
             "line": {
              "color": "#E5ECF6",
              "width": 0.5
             },
             "pattern": {
              "fillmode": "overlay",
              "size": 10,
              "solidity": 0.2
             }
            },
            "type": "bar"
           }
          ],
          "barpolar": [
           {
            "marker": {
             "line": {
              "color": "#E5ECF6",
              "width": 0.5
             },
             "pattern": {
              "fillmode": "overlay",
              "size": 10,
              "solidity": 0.2
             }
            },
            "type": "barpolar"
           }
          ],
          "carpet": [
           {
            "aaxis": {
             "endlinecolor": "#2a3f5f",
             "gridcolor": "white",
             "linecolor": "white",
             "minorgridcolor": "white",
             "startlinecolor": "#2a3f5f"
            },
            "baxis": {
             "endlinecolor": "#2a3f5f",
             "gridcolor": "white",
             "linecolor": "white",
             "minorgridcolor": "white",
             "startlinecolor": "#2a3f5f"
            },
            "type": "carpet"
           }
          ],
          "choropleth": [
           {
            "colorbar": {
             "outlinewidth": 0,
             "ticks": ""
            },
            "type": "choropleth"
           }
          ],
          "contour": [
           {
            "colorbar": {
             "outlinewidth": 0,
             "ticks": ""
            },
            "colorscale": [
             [
              0,
              "#0d0887"
             ],
             [
              0.1111111111111111,
              "#46039f"
             ],
             [
              0.2222222222222222,
              "#7201a8"
             ],
             [
              0.3333333333333333,
              "#9c179e"
             ],
             [
              0.4444444444444444,
              "#bd3786"
             ],
             [
              0.5555555555555556,
              "#d8576b"
             ],
             [
              0.6666666666666666,
              "#ed7953"
             ],
             [
              0.7777777777777778,
              "#fb9f3a"
             ],
             [
              0.8888888888888888,
              "#fdca26"
             ],
             [
              1,
              "#f0f921"
             ]
            ],
            "type": "contour"
           }
          ],
          "contourcarpet": [
           {
            "colorbar": {
             "outlinewidth": 0,
             "ticks": ""
            },
            "type": "contourcarpet"
           }
          ],
          "heatmap": [
           {
            "colorbar": {
             "outlinewidth": 0,
             "ticks": ""
            },
            "colorscale": [
             [
              0,
              "#0d0887"
             ],
             [
              0.1111111111111111,
              "#46039f"
             ],
             [
              0.2222222222222222,
              "#7201a8"
             ],
             [
              0.3333333333333333,
              "#9c179e"
             ],
             [
              0.4444444444444444,
              "#bd3786"
             ],
             [
              0.5555555555555556,
              "#d8576b"
             ],
             [
              0.6666666666666666,
              "#ed7953"
             ],
             [
              0.7777777777777778,
              "#fb9f3a"
             ],
             [
              0.8888888888888888,
              "#fdca26"
             ],
             [
              1,
              "#f0f921"
             ]
            ],
            "type": "heatmap"
           }
          ],
          "heatmapgl": [
           {
            "colorbar": {
             "outlinewidth": 0,
             "ticks": ""
            },
            "colorscale": [
             [
              0,
              "#0d0887"
             ],
             [
              0.1111111111111111,
              "#46039f"
             ],
             [
              0.2222222222222222,
              "#7201a8"
             ],
             [
              0.3333333333333333,
              "#9c179e"
             ],
             [
              0.4444444444444444,
              "#bd3786"
             ],
             [
              0.5555555555555556,
              "#d8576b"
             ],
             [
              0.6666666666666666,
              "#ed7953"
             ],
             [
              0.7777777777777778,
              "#fb9f3a"
             ],
             [
              0.8888888888888888,
              "#fdca26"
             ],
             [
              1,
              "#f0f921"
             ]
            ],
            "type": "heatmapgl"
           }
          ],
          "histogram": [
           {
            "marker": {
             "pattern": {
              "fillmode": "overlay",
              "size": 10,
              "solidity": 0.2
             }
            },
            "type": "histogram"
           }
          ],
          "histogram2d": [
           {
            "colorbar": {
             "outlinewidth": 0,
             "ticks": ""
            },
            "colorscale": [
             [
              0,
              "#0d0887"
             ],
             [
              0.1111111111111111,
              "#46039f"
             ],
             [
              0.2222222222222222,
              "#7201a8"
             ],
             [
              0.3333333333333333,
              "#9c179e"
             ],
             [
              0.4444444444444444,
              "#bd3786"
             ],
             [
              0.5555555555555556,
              "#d8576b"
             ],
             [
              0.6666666666666666,
              "#ed7953"
             ],
             [
              0.7777777777777778,
              "#fb9f3a"
             ],
             [
              0.8888888888888888,
              "#fdca26"
             ],
             [
              1,
              "#f0f921"
             ]
            ],
            "type": "histogram2d"
           }
          ],
          "histogram2dcontour": [
           {
            "colorbar": {
             "outlinewidth": 0,
             "ticks": ""
            },
            "colorscale": [
             [
              0,
              "#0d0887"
             ],
             [
              0.1111111111111111,
              "#46039f"
             ],
             [
              0.2222222222222222,
              "#7201a8"
             ],
             [
              0.3333333333333333,
              "#9c179e"
             ],
             [
              0.4444444444444444,
              "#bd3786"
             ],
             [
              0.5555555555555556,
              "#d8576b"
             ],
             [
              0.6666666666666666,
              "#ed7953"
             ],
             [
              0.7777777777777778,
              "#fb9f3a"
             ],
             [
              0.8888888888888888,
              "#fdca26"
             ],
             [
              1,
              "#f0f921"
             ]
            ],
            "type": "histogram2dcontour"
           }
          ],
          "mesh3d": [
           {
            "colorbar": {
             "outlinewidth": 0,
             "ticks": ""
            },
            "type": "mesh3d"
           }
          ],
          "parcoords": [
           {
            "line": {
             "colorbar": {
              "outlinewidth": 0,
              "ticks": ""
             }
            },
            "type": "parcoords"
           }
          ],
          "pie": [
           {
            "automargin": true,
            "type": "pie"
           }
          ],
          "scatter": [
           {
            "fillpattern": {
             "fillmode": "overlay",
             "size": 10,
             "solidity": 0.2
            },
            "type": "scatter"
           }
          ],
          "scatter3d": [
           {
            "line": {
             "colorbar": {
              "outlinewidth": 0,
              "ticks": ""
             }
            },
            "marker": {
             "colorbar": {
              "outlinewidth": 0,
              "ticks": ""
             }
            },
            "type": "scatter3d"
           }
          ],
          "scattercarpet": [
           {
            "marker": {
             "colorbar": {
              "outlinewidth": 0,
              "ticks": ""
             }
            },
            "type": "scattercarpet"
           }
          ],
          "scattergeo": [
           {
            "marker": {
             "colorbar": {
              "outlinewidth": 0,
              "ticks": ""
             }
            },
            "type": "scattergeo"
           }
          ],
          "scattergl": [
           {
            "marker": {
             "colorbar": {
              "outlinewidth": 0,
              "ticks": ""
             }
            },
            "type": "scattergl"
           }
          ],
          "scattermapbox": [
           {
            "marker": {
             "colorbar": {
              "outlinewidth": 0,
              "ticks": ""
             }
            },
            "type": "scattermapbox"
           }
          ],
          "scatterpolar": [
           {
            "marker": {
             "colorbar": {
              "outlinewidth": 0,
              "ticks": ""
             }
            },
            "type": "scatterpolar"
           }
          ],
          "scatterpolargl": [
           {
            "marker": {
             "colorbar": {
              "outlinewidth": 0,
              "ticks": ""
             }
            },
            "type": "scatterpolargl"
           }
          ],
          "scatterternary": [
           {
            "marker": {
             "colorbar": {
              "outlinewidth": 0,
              "ticks": ""
             }
            },
            "type": "scatterternary"
           }
          ],
          "surface": [
           {
            "colorbar": {
             "outlinewidth": 0,
             "ticks": ""
            },
            "colorscale": [
             [
              0,
              "#0d0887"
             ],
             [
              0.1111111111111111,
              "#46039f"
             ],
             [
              0.2222222222222222,
              "#7201a8"
             ],
             [
              0.3333333333333333,
              "#9c179e"
             ],
             [
              0.4444444444444444,
              "#bd3786"
             ],
             [
              0.5555555555555556,
              "#d8576b"
             ],
             [
              0.6666666666666666,
              "#ed7953"
             ],
             [
              0.7777777777777778,
              "#fb9f3a"
             ],
             [
              0.8888888888888888,
              "#fdca26"
             ],
             [
              1,
              "#f0f921"
             ]
            ],
            "type": "surface"
           }
          ],
          "table": [
           {
            "cells": {
             "fill": {
              "color": "#EBF0F8"
             },
             "line": {
              "color": "white"
             }
            },
            "header": {
             "fill": {
              "color": "#C8D4E3"
             },
             "line": {
              "color": "white"
             }
            },
            "type": "table"
           }
          ]
         },
         "layout": {
          "annotationdefaults": {
           "arrowcolor": "#2a3f5f",
           "arrowhead": 0,
           "arrowwidth": 1
          },
          "autotypenumbers": "strict",
          "coloraxis": {
           "colorbar": {
            "outlinewidth": 0,
            "ticks": ""
           }
          },
          "colorscale": {
           "diverging": [
            [
             0,
             "#8e0152"
            ],
            [
             0.1,
             "#c51b7d"
            ],
            [
             0.2,
             "#de77ae"
            ],
            [
             0.3,
             "#f1b6da"
            ],
            [
             0.4,
             "#fde0ef"
            ],
            [
             0.5,
             "#f7f7f7"
            ],
            [
             0.6,
             "#e6f5d0"
            ],
            [
             0.7,
             "#b8e186"
            ],
            [
             0.8,
             "#7fbc41"
            ],
            [
             0.9,
             "#4d9221"
            ],
            [
             1,
             "#276419"
            ]
           ],
           "sequential": [
            [
             0,
             "#0d0887"
            ],
            [
             0.1111111111111111,
             "#46039f"
            ],
            [
             0.2222222222222222,
             "#7201a8"
            ],
            [
             0.3333333333333333,
             "#9c179e"
            ],
            [
             0.4444444444444444,
             "#bd3786"
            ],
            [
             0.5555555555555556,
             "#d8576b"
            ],
            [
             0.6666666666666666,
             "#ed7953"
            ],
            [
             0.7777777777777778,
             "#fb9f3a"
            ],
            [
             0.8888888888888888,
             "#fdca26"
            ],
            [
             1,
             "#f0f921"
            ]
           ],
           "sequentialminus": [
            [
             0,
             "#0d0887"
            ],
            [
             0.1111111111111111,
             "#46039f"
            ],
            [
             0.2222222222222222,
             "#7201a8"
            ],
            [
             0.3333333333333333,
             "#9c179e"
            ],
            [
             0.4444444444444444,
             "#bd3786"
            ],
            [
             0.5555555555555556,
             "#d8576b"
            ],
            [
             0.6666666666666666,
             "#ed7953"
            ],
            [
             0.7777777777777778,
             "#fb9f3a"
            ],
            [
             0.8888888888888888,
             "#fdca26"
            ],
            [
             1,
             "#f0f921"
            ]
           ]
          },
          "colorway": [
           "#636efa",
           "#EF553B",
           "#00cc96",
           "#ab63fa",
           "#FFA15A",
           "#19d3f3",
           "#FF6692",
           "#B6E880",
           "#FF97FF",
           "#FECB52"
          ],
          "font": {
           "color": "#2a3f5f"
          },
          "geo": {
           "bgcolor": "white",
           "lakecolor": "white",
           "landcolor": "#E5ECF6",
           "showlakes": true,
           "showland": true,
           "subunitcolor": "white"
          },
          "hoverlabel": {
           "align": "left"
          },
          "hovermode": "closest",
          "mapbox": {
           "style": "light"
          },
          "paper_bgcolor": "white",
          "plot_bgcolor": "#E5ECF6",
          "polar": {
           "angularaxis": {
            "gridcolor": "white",
            "linecolor": "white",
            "ticks": ""
           },
           "bgcolor": "#E5ECF6",
           "radialaxis": {
            "gridcolor": "white",
            "linecolor": "white",
            "ticks": ""
           }
          },
          "scene": {
           "xaxis": {
            "backgroundcolor": "#E5ECF6",
            "gridcolor": "white",
            "gridwidth": 2,
            "linecolor": "white",
            "showbackground": true,
            "ticks": "",
            "zerolinecolor": "white"
           },
           "yaxis": {
            "backgroundcolor": "#E5ECF6",
            "gridcolor": "white",
            "gridwidth": 2,
            "linecolor": "white",
            "showbackground": true,
            "ticks": "",
            "zerolinecolor": "white"
           },
           "zaxis": {
            "backgroundcolor": "#E5ECF6",
            "gridcolor": "white",
            "gridwidth": 2,
            "linecolor": "white",
            "showbackground": true,
            "ticks": "",
            "zerolinecolor": "white"
           }
          },
          "shapedefaults": {
           "line": {
            "color": "#2a3f5f"
           }
          },
          "ternary": {
           "aaxis": {
            "gridcolor": "white",
            "linecolor": "white",
            "ticks": ""
           },
           "baxis": {
            "gridcolor": "white",
            "linecolor": "white",
            "ticks": ""
           },
           "bgcolor": "#E5ECF6",
           "caxis": {
            "gridcolor": "white",
            "linecolor": "white",
            "ticks": ""
           }
          },
          "title": {
           "x": 0.05
          },
          "xaxis": {
           "automargin": true,
           "gridcolor": "white",
           "linecolor": "white",
           "ticks": "",
           "title": {
            "standoff": 15
           },
           "zerolinecolor": "white",
           "zerolinewidth": 2
          },
          "yaxis": {
           "automargin": true,
           "gridcolor": "white",
           "linecolor": "white",
           "ticks": "",
           "title": {
            "standoff": 15
           },
           "zerolinecolor": "white",
           "zerolinewidth": 2
          }
         }
        },
        "title": {
         "text": "Pirâmide Etária Rio de Janeiro 2022"
        },
        "xaxis": {
         "title": {
          "text": "População"
         }
        },
        "yaxis": {
         "title": {
          "text": "Faixa etária"
         }
        }
       }
      },
      "text/html": [
       "<div>                            <div id=\"c723a54a-497d-4cff-adcf-a2254c6b11a9\" class=\"plotly-graph-div\" style=\"height:525px; width:100%;\"></div>            <script type=\"text/javascript\">                require([\"plotly\"], function(Plotly) {                    window.PLOTLYENV=window.PLOTLYENV || {};                                    if (document.getElementById(\"c723a54a-497d-4cff-adcf-a2254c6b11a9\")) {                    Plotly.newPlot(                        \"c723a54a-497d-4cff-adcf-a2254c6b11a9\",                        [{\"marker\":{\"color\":\"yellow\"},\"name\":\"Popula\\u00e7\\u00e3o Feminina Rio de Janeiro\",\"orientation\":\"h\",\"x\":[222500,1214200,4178900,8652100,14478300,21342600,32442000,42808700,50985100,54876900,56826400,58905700,68072800,64132800,60763000,60036700,57893400,49803900,47016900,49829500,43267500],\"y\":[\"100 anos ou mais\",\"95 a 99 anos\",\"90 a 94 anos\",\"85 a 89 anos\",\"80 a 84 anos\",\"75 a 79 anos\",\"70 a 74 anos\",\"65 a 69 anos\",\"60 a 64 anos\",\"55 a 59 anos\",\"50 a 54 anos\",\"45 a 49 anos\",\"40 a 44 anos\",\"35 a 39 anos\",\"30 a 34 anos\",\"25 a 29 anos\",\"20 a 24 anos\",\"15 a 19 anos\",\"10 a 14 anos\",\"5 a 9 anos\",\"0 a 4 anos\"],\"type\":\"bar\"},{\"marker\":{\"color\":\"green\"},\"name\":\"Popula\\u00e7\\u00e3o Masculina Rio de Janeiro\",\"orientation\":\"h\",\"x\":[-48700,-365800,-1619600,-4169200,-8459300,-14023000,-23521200,-32773000,-41258700,-46160600,-49448600,-51936500,-61231300,-57323600,-55470200,-56055900,-57007700,-51393900,-49446700,-51744600,-44309400],\"y\":[\"100 anos ou mais\",\"95 a 99 anos\",\"90 a 94 anos\",\"85 a 89 anos\",\"80 a 84 anos\",\"75 a 79 anos\",\"70 a 74 anos\",\"65 a 69 anos\",\"60 a 64 anos\",\"55 a 59 anos\",\"50 a 54 anos\",\"45 a 49 anos\",\"40 a 44 anos\",\"35 a 39 anos\",\"30 a 34 anos\",\"25 a 29 anos\",\"20 a 24 anos\",\"15 a 19 anos\",\"10 a 14 anos\",\"5 a 9 anos\",\"0 a 4 anos\"],\"type\":\"bar\"}],                        {\"template\":{\"data\":{\"histogram2dcontour\":[{\"type\":\"histogram2dcontour\",\"colorbar\":{\"outlinewidth\":0,\"ticks\":\"\"},\"colorscale\":[[0.0,\"#0d0887\"],[0.1111111111111111,\"#46039f\"],[0.2222222222222222,\"#7201a8\"],[0.3333333333333333,\"#9c179e\"],[0.4444444444444444,\"#bd3786\"],[0.5555555555555556,\"#d8576b\"],[0.6666666666666666,\"#ed7953\"],[0.7777777777777778,\"#fb9f3a\"],[0.8888888888888888,\"#fdca26\"],[1.0,\"#f0f921\"]]}],\"choropleth\":[{\"type\":\"choropleth\",\"colorbar\":{\"outlinewidth\":0,\"ticks\":\"\"}}],\"histogram2d\":[{\"type\":\"histogram2d\",\"colorbar\":{\"outlinewidth\":0,\"ticks\":\"\"},\"colorscale\":[[0.0,\"#0d0887\"],[0.1111111111111111,\"#46039f\"],[0.2222222222222222,\"#7201a8\"],[0.3333333333333333,\"#9c179e\"],[0.4444444444444444,\"#bd3786\"],[0.5555555555555556,\"#d8576b\"],[0.6666666666666666,\"#ed7953\"],[0.7777777777777778,\"#fb9f3a\"],[0.8888888888888888,\"#fdca26\"],[1.0,\"#f0f921\"]]}],\"heatmap\":[{\"type\":\"heatmap\",\"colorbar\":{\"outlinewidth\":0,\"ticks\":\"\"},\"colorscale\":[[0.0,\"#0d0887\"],[0.1111111111111111,\"#46039f\"],[0.2222222222222222,\"#7201a8\"],[0.3333333333333333,\"#9c179e\"],[0.4444444444444444,\"#bd3786\"],[0.5555555555555556,\"#d8576b\"],[0.6666666666666666,\"#ed7953\"],[0.7777777777777778,\"#fb9f3a\"],[0.8888888888888888,\"#fdca26\"],[1.0,\"#f0f921\"]]}],\"heatmapgl\":[{\"type\":\"heatmapgl\",\"colorbar\":{\"outlinewidth\":0,\"ticks\":\"\"},\"colorscale\":[[0.0,\"#0d0887\"],[0.1111111111111111,\"#46039f\"],[0.2222222222222222,\"#7201a8\"],[0.3333333333333333,\"#9c179e\"],[0.4444444444444444,\"#bd3786\"],[0.5555555555555556,\"#d8576b\"],[0.6666666666666666,\"#ed7953\"],[0.7777777777777778,\"#fb9f3a\"],[0.8888888888888888,\"#fdca26\"],[1.0,\"#f0f921\"]]}],\"contourcarpet\":[{\"type\":\"contourcarpet\",\"colorbar\":{\"outlinewidth\":0,\"ticks\":\"\"}}],\"contour\":[{\"type\":\"contour\",\"colorbar\":{\"outlinewidth\":0,\"ticks\":\"\"},\"colorscale\":[[0.0,\"#0d0887\"],[0.1111111111111111,\"#46039f\"],[0.2222222222222222,\"#7201a8\"],[0.3333333333333333,\"#9c179e\"],[0.4444444444444444,\"#bd3786\"],[0.5555555555555556,\"#d8576b\"],[0.6666666666666666,\"#ed7953\"],[0.7777777777777778,\"#fb9f3a\"],[0.8888888888888888,\"#fdca26\"],[1.0,\"#f0f921\"]]}],\"surface\":[{\"type\":\"surface\",\"colorbar\":{\"outlinewidth\":0,\"ticks\":\"\"},\"colorscale\":[[0.0,\"#0d0887\"],[0.1111111111111111,\"#46039f\"],[0.2222222222222222,\"#7201a8\"],[0.3333333333333333,\"#9c179e\"],[0.4444444444444444,\"#bd3786\"],[0.5555555555555556,\"#d8576b\"],[0.6666666666666666,\"#ed7953\"],[0.7777777777777778,\"#fb9f3a\"],[0.8888888888888888,\"#fdca26\"],[1.0,\"#f0f921\"]]}],\"mesh3d\":[{\"type\":\"mesh3d\",\"colorbar\":{\"outlinewidth\":0,\"ticks\":\"\"}}],\"scatter\":[{\"fillpattern\":{\"fillmode\":\"overlay\",\"size\":10,\"solidity\":0.2},\"type\":\"scatter\"}],\"parcoords\":[{\"type\":\"parcoords\",\"line\":{\"colorbar\":{\"outlinewidth\":0,\"ticks\":\"\"}}}],\"scatterpolargl\":[{\"type\":\"scatterpolargl\",\"marker\":{\"colorbar\":{\"outlinewidth\":0,\"ticks\":\"\"}}}],\"bar\":[{\"error_x\":{\"color\":\"#2a3f5f\"},\"error_y\":{\"color\":\"#2a3f5f\"},\"marker\":{\"line\":{\"color\":\"#E5ECF6\",\"width\":0.5},\"pattern\":{\"fillmode\":\"overlay\",\"size\":10,\"solidity\":0.2}},\"type\":\"bar\"}],\"scattergeo\":[{\"type\":\"scattergeo\",\"marker\":{\"colorbar\":{\"outlinewidth\":0,\"ticks\":\"\"}}}],\"scatterpolar\":[{\"type\":\"scatterpolar\",\"marker\":{\"colorbar\":{\"outlinewidth\":0,\"ticks\":\"\"}}}],\"histogram\":[{\"marker\":{\"pattern\":{\"fillmode\":\"overlay\",\"size\":10,\"solidity\":0.2}},\"type\":\"histogram\"}],\"scattergl\":[{\"type\":\"scattergl\",\"marker\":{\"colorbar\":{\"outlinewidth\":0,\"ticks\":\"\"}}}],\"scatter3d\":[{\"type\":\"scatter3d\",\"line\":{\"colorbar\":{\"outlinewidth\":0,\"ticks\":\"\"}},\"marker\":{\"colorbar\":{\"outlinewidth\":0,\"ticks\":\"\"}}}],\"scattermapbox\":[{\"type\":\"scattermapbox\",\"marker\":{\"colorbar\":{\"outlinewidth\":0,\"ticks\":\"\"}}}],\"scatterternary\":[{\"type\":\"scatterternary\",\"marker\":{\"colorbar\":{\"outlinewidth\":0,\"ticks\":\"\"}}}],\"scattercarpet\":[{\"type\":\"scattercarpet\",\"marker\":{\"colorbar\":{\"outlinewidth\":0,\"ticks\":\"\"}}}],\"carpet\":[{\"aaxis\":{\"endlinecolor\":\"#2a3f5f\",\"gridcolor\":\"white\",\"linecolor\":\"white\",\"minorgridcolor\":\"white\",\"startlinecolor\":\"#2a3f5f\"},\"baxis\":{\"endlinecolor\":\"#2a3f5f\",\"gridcolor\":\"white\",\"linecolor\":\"white\",\"minorgridcolor\":\"white\",\"startlinecolor\":\"#2a3f5f\"},\"type\":\"carpet\"}],\"table\":[{\"cells\":{\"fill\":{\"color\":\"#EBF0F8\"},\"line\":{\"color\":\"white\"}},\"header\":{\"fill\":{\"color\":\"#C8D4E3\"},\"line\":{\"color\":\"white\"}},\"type\":\"table\"}],\"barpolar\":[{\"marker\":{\"line\":{\"color\":\"#E5ECF6\",\"width\":0.5},\"pattern\":{\"fillmode\":\"overlay\",\"size\":10,\"solidity\":0.2}},\"type\":\"barpolar\"}],\"pie\":[{\"automargin\":true,\"type\":\"pie\"}]},\"layout\":{\"autotypenumbers\":\"strict\",\"colorway\":[\"#636efa\",\"#EF553B\",\"#00cc96\",\"#ab63fa\",\"#FFA15A\",\"#19d3f3\",\"#FF6692\",\"#B6E880\",\"#FF97FF\",\"#FECB52\"],\"font\":{\"color\":\"#2a3f5f\"},\"hovermode\":\"closest\",\"hoverlabel\":{\"align\":\"left\"},\"paper_bgcolor\":\"white\",\"plot_bgcolor\":\"#E5ECF6\",\"polar\":{\"bgcolor\":\"#E5ECF6\",\"angularaxis\":{\"gridcolor\":\"white\",\"linecolor\":\"white\",\"ticks\":\"\"},\"radialaxis\":{\"gridcolor\":\"white\",\"linecolor\":\"white\",\"ticks\":\"\"}},\"ternary\":{\"bgcolor\":\"#E5ECF6\",\"aaxis\":{\"gridcolor\":\"white\",\"linecolor\":\"white\",\"ticks\":\"\"},\"baxis\":{\"gridcolor\":\"white\",\"linecolor\":\"white\",\"ticks\":\"\"},\"caxis\":{\"gridcolor\":\"white\",\"linecolor\":\"white\",\"ticks\":\"\"}},\"coloraxis\":{\"colorbar\":{\"outlinewidth\":0,\"ticks\":\"\"}},\"colorscale\":{\"sequential\":[[0.0,\"#0d0887\"],[0.1111111111111111,\"#46039f\"],[0.2222222222222222,\"#7201a8\"],[0.3333333333333333,\"#9c179e\"],[0.4444444444444444,\"#bd3786\"],[0.5555555555555556,\"#d8576b\"],[0.6666666666666666,\"#ed7953\"],[0.7777777777777778,\"#fb9f3a\"],[0.8888888888888888,\"#fdca26\"],[1.0,\"#f0f921\"]],\"sequentialminus\":[[0.0,\"#0d0887\"],[0.1111111111111111,\"#46039f\"],[0.2222222222222222,\"#7201a8\"],[0.3333333333333333,\"#9c179e\"],[0.4444444444444444,\"#bd3786\"],[0.5555555555555556,\"#d8576b\"],[0.6666666666666666,\"#ed7953\"],[0.7777777777777778,\"#fb9f3a\"],[0.8888888888888888,\"#fdca26\"],[1.0,\"#f0f921\"]],\"diverging\":[[0,\"#8e0152\"],[0.1,\"#c51b7d\"],[0.2,\"#de77ae\"],[0.3,\"#f1b6da\"],[0.4,\"#fde0ef\"],[0.5,\"#f7f7f7\"],[0.6,\"#e6f5d0\"],[0.7,\"#b8e186\"],[0.8,\"#7fbc41\"],[0.9,\"#4d9221\"],[1,\"#276419\"]]},\"xaxis\":{\"gridcolor\":\"white\",\"linecolor\":\"white\",\"ticks\":\"\",\"title\":{\"standoff\":15},\"zerolinecolor\":\"white\",\"automargin\":true,\"zerolinewidth\":2},\"yaxis\":{\"gridcolor\":\"white\",\"linecolor\":\"white\",\"ticks\":\"\",\"title\":{\"standoff\":15},\"zerolinecolor\":\"white\",\"automargin\":true,\"zerolinewidth\":2},\"scene\":{\"xaxis\":{\"backgroundcolor\":\"#E5ECF6\",\"gridcolor\":\"white\",\"linecolor\":\"white\",\"showbackground\":true,\"ticks\":\"\",\"zerolinecolor\":\"white\",\"gridwidth\":2},\"yaxis\":{\"backgroundcolor\":\"#E5ECF6\",\"gridcolor\":\"white\",\"linecolor\":\"white\",\"showbackground\":true,\"ticks\":\"\",\"zerolinecolor\":\"white\",\"gridwidth\":2},\"zaxis\":{\"backgroundcolor\":\"#E5ECF6\",\"gridcolor\":\"white\",\"linecolor\":\"white\",\"showbackground\":true,\"ticks\":\"\",\"zerolinecolor\":\"white\",\"gridwidth\":2}},\"shapedefaults\":{\"line\":{\"color\":\"#2a3f5f\"}},\"annotationdefaults\":{\"arrowcolor\":\"#2a3f5f\",\"arrowhead\":0,\"arrowwidth\":1},\"geo\":{\"bgcolor\":\"white\",\"landcolor\":\"#E5ECF6\",\"subunitcolor\":\"white\",\"showland\":true,\"showlakes\":true,\"lakecolor\":\"white\"},\"title\":{\"x\":0.05},\"mapbox\":{\"style\":\"light\"}}},\"title\":{\"text\":\"Pir\\u00e2mide Et\\u00e1ria Rio de Janeiro 2022\"},\"xaxis\":{\"title\":{\"text\":\"Popula\\u00e7\\u00e3o\"}},\"yaxis\":{\"title\":{\"text\":\"Faixa et\\u00e1ria\"}},\"barmode\":\"relative\",\"bargap\":0.1,\"bargroupgap\":0.05},                        {\"responsive\": true}                    ).then(function(){\n",
       "                            \n",
       "var gd = document.getElementById('c723a54a-497d-4cff-adcf-a2254c6b11a9');\n",
       "var x = new MutationObserver(function (mutations, observer) {{\n",
       "        var display = window.getComputedStyle(gd).display;\n",
       "        if (!display || display === 'none') {{\n",
       "            console.log([gd, 'removed!']);\n",
       "            Plotly.purge(gd);\n",
       "            observer.disconnect();\n",
       "        }}\n",
       "}});\n",
       "\n",
       "// Listen for the removal of the full notebook cells\n",
       "var notebookContainer = gd.closest('#notebook-container');\n",
       "if (notebookContainer) {{\n",
       "    x.observe(notebookContainer, {childList: true});\n",
       "}}\n",
       "\n",
       "// Listen for the clearing of the current output cell\n",
       "var outputEl = gd.closest('.output');\n",
       "if (outputEl) {{\n",
       "    x.observe(outputEl, {childList: true});\n",
       "}}\n",
       "\n",
       "                        })                };                });            </script>        </div>"
      ]
     },
     "metadata": {},
     "output_type": "display_data"
    }
   ],
   "source": [
    "idades_rio = dados_cit1_r[\"Grupo de idade\"]\n",
    "pop_feminina_rio = dados_cit1_r[\"popfem_rio\"]\n",
    "pop_masculina_rio = dados_cit1_r[\"popmasc_rio\"]\n",
    "\n",
    "## criando o grafico interativo\n",
    "fig_rio = go.Figure()\n",
    "#adic barras \n",
    "fig_rio.add_trace(go.Bar(\n",
    "    y = idades,\n",
    "    x = pop_feminina_rio,\n",
    "    name = 'População Feminina Rio de Janeiro',\n",
    "    orientation = 'h',\n",
    "    marker = dict(color= 'yellow')\n",
    "))\n",
    "fig_rio.add_trace(go.Bar(\n",
    "    y = idades,\n",
    "    x = pop_masculina_rio,\n",
    "    name = 'População Masculina Rio de Janeiro',\n",
    "    orientation = 'h',\n",
    "    marker = dict(color= 'green')\n",
    "))\n",
    "fig_rio.update_layout(\n",
    "    title='Pirâmide Etária Rio de Janeiro 2022',\n",
    "    xaxis_title='População',\n",
    "    yaxis_title='Faixa etária',\n",
    "    barmode='relative',\n",
    "    bargap=0.1,  # Espaçamento entre barras\n",
    "    bargroupgap=0.05  # Espaçamento entre grupos de barras\n",
    ")\n",
    "\n"
   ]
  },
  {
   "cell_type": "code",
   "execution_count": 21,
   "id": "f434e0e2",
   "metadata": {},
   "outputs": [
    {
     "data": {
      "application/vnd.plotly.v1+json": {
       "config": {
        "plotlyServerURL": "https://plot.ly"
       },
       "data": [
        {
         "marker": {
          "color": "blue"
         },
         "name": "População feminina São Paulo",
         "orientation": "h",
         "type": "bar",
         "x": [
          395600,
          2563500,
          9390700,
          20359500,
          35159300,
          53381000,
          79549700,
          105443700,
          129494800,
          143378000,
          153493000,
          163916400,
          190285600,
          187316500,
          173052700,
          165547300,
          158409100,
          139681600,
          133498000,
          136013000,
          121157200
         ],
         "y": [
          "100 anos ou mais",
          "95 a 99 anos",
          "90 a 94 anos",
          "85 a 89 anos",
          "80 a 84 anos",
          "75 a 79 anos",
          "70 a 74 anos",
          "65 a 69 anos",
          "60 a 64 anos",
          "55 a 59 anos",
          "50 a 54 anos",
          "45 a 49 anos",
          "40 a 44 anos",
          "35 a 39 anos",
          "30 a 34 anos",
          "25 a 29 anos",
          "20 a 24 anos",
          "15 a 19 anos",
          "10 a 14 anos",
          "5 a 9 anos",
          "0 a 4 anos"
         ]
        },
        {
         "marker": {
          "color": "red"
         },
         "name": "População masculina São Paulo",
         "orientation": "h",
         "type": "bar",
         "x": [
          -113900,
          -923700,
          -4190000,
          -11014400,
          -22625000,
          -37938700,
          -60845500,
          -84624400,
          -107043400,
          -123349700,
          -137511000,
          -148708100,
          -176449600,
          -176351400,
          -167273900,
          -165067000,
          -162674500,
          -146085300,
          -139723600,
          -141524700,
          -125599800
         ],
         "y": [
          "100 anos ou mais",
          "95 a 99 anos",
          "90 a 94 anos",
          "85 a 89 anos",
          "80 a 84 anos",
          "75 a 79 anos",
          "70 a 74 anos",
          "65 a 69 anos",
          "60 a 64 anos",
          "55 a 59 anos",
          "50 a 54 anos",
          "45 a 49 anos",
          "40 a 44 anos",
          "35 a 39 anos",
          "30 a 34 anos",
          "25 a 29 anos",
          "20 a 24 anos",
          "15 a 19 anos",
          "10 a 14 anos",
          "5 a 9 anos",
          "0 a 4 anos"
         ]
        }
       ],
       "layout": {
        "bargap": 0.1,
        "bargroupgap": 0.05,
        "barmode": "relative",
        "template": {
         "data": {
          "bar": [
           {
            "error_x": {
             "color": "#2a3f5f"
            },
            "error_y": {
             "color": "#2a3f5f"
            },
            "marker": {
             "line": {
              "color": "#E5ECF6",
              "width": 0.5
             },
             "pattern": {
              "fillmode": "overlay",
              "size": 10,
              "solidity": 0.2
             }
            },
            "type": "bar"
           }
          ],
          "barpolar": [
           {
            "marker": {
             "line": {
              "color": "#E5ECF6",
              "width": 0.5
             },
             "pattern": {
              "fillmode": "overlay",
              "size": 10,
              "solidity": 0.2
             }
            },
            "type": "barpolar"
           }
          ],
          "carpet": [
           {
            "aaxis": {
             "endlinecolor": "#2a3f5f",
             "gridcolor": "white",
             "linecolor": "white",
             "minorgridcolor": "white",
             "startlinecolor": "#2a3f5f"
            },
            "baxis": {
             "endlinecolor": "#2a3f5f",
             "gridcolor": "white",
             "linecolor": "white",
             "minorgridcolor": "white",
             "startlinecolor": "#2a3f5f"
            },
            "type": "carpet"
           }
          ],
          "choropleth": [
           {
            "colorbar": {
             "outlinewidth": 0,
             "ticks": ""
            },
            "type": "choropleth"
           }
          ],
          "contour": [
           {
            "colorbar": {
             "outlinewidth": 0,
             "ticks": ""
            },
            "colorscale": [
             [
              0,
              "#0d0887"
             ],
             [
              0.1111111111111111,
              "#46039f"
             ],
             [
              0.2222222222222222,
              "#7201a8"
             ],
             [
              0.3333333333333333,
              "#9c179e"
             ],
             [
              0.4444444444444444,
              "#bd3786"
             ],
             [
              0.5555555555555556,
              "#d8576b"
             ],
             [
              0.6666666666666666,
              "#ed7953"
             ],
             [
              0.7777777777777778,
              "#fb9f3a"
             ],
             [
              0.8888888888888888,
              "#fdca26"
             ],
             [
              1,
              "#f0f921"
             ]
            ],
            "type": "contour"
           }
          ],
          "contourcarpet": [
           {
            "colorbar": {
             "outlinewidth": 0,
             "ticks": ""
            },
            "type": "contourcarpet"
           }
          ],
          "heatmap": [
           {
            "colorbar": {
             "outlinewidth": 0,
             "ticks": ""
            },
            "colorscale": [
             [
              0,
              "#0d0887"
             ],
             [
              0.1111111111111111,
              "#46039f"
             ],
             [
              0.2222222222222222,
              "#7201a8"
             ],
             [
              0.3333333333333333,
              "#9c179e"
             ],
             [
              0.4444444444444444,
              "#bd3786"
             ],
             [
              0.5555555555555556,
              "#d8576b"
             ],
             [
              0.6666666666666666,
              "#ed7953"
             ],
             [
              0.7777777777777778,
              "#fb9f3a"
             ],
             [
              0.8888888888888888,
              "#fdca26"
             ],
             [
              1,
              "#f0f921"
             ]
            ],
            "type": "heatmap"
           }
          ],
          "heatmapgl": [
           {
            "colorbar": {
             "outlinewidth": 0,
             "ticks": ""
            },
            "colorscale": [
             [
              0,
              "#0d0887"
             ],
             [
              0.1111111111111111,
              "#46039f"
             ],
             [
              0.2222222222222222,
              "#7201a8"
             ],
             [
              0.3333333333333333,
              "#9c179e"
             ],
             [
              0.4444444444444444,
              "#bd3786"
             ],
             [
              0.5555555555555556,
              "#d8576b"
             ],
             [
              0.6666666666666666,
              "#ed7953"
             ],
             [
              0.7777777777777778,
              "#fb9f3a"
             ],
             [
              0.8888888888888888,
              "#fdca26"
             ],
             [
              1,
              "#f0f921"
             ]
            ],
            "type": "heatmapgl"
           }
          ],
          "histogram": [
           {
            "marker": {
             "pattern": {
              "fillmode": "overlay",
              "size": 10,
              "solidity": 0.2
             }
            },
            "type": "histogram"
           }
          ],
          "histogram2d": [
           {
            "colorbar": {
             "outlinewidth": 0,
             "ticks": ""
            },
            "colorscale": [
             [
              0,
              "#0d0887"
             ],
             [
              0.1111111111111111,
              "#46039f"
             ],
             [
              0.2222222222222222,
              "#7201a8"
             ],
             [
              0.3333333333333333,
              "#9c179e"
             ],
             [
              0.4444444444444444,
              "#bd3786"
             ],
             [
              0.5555555555555556,
              "#d8576b"
             ],
             [
              0.6666666666666666,
              "#ed7953"
             ],
             [
              0.7777777777777778,
              "#fb9f3a"
             ],
             [
              0.8888888888888888,
              "#fdca26"
             ],
             [
              1,
              "#f0f921"
             ]
            ],
            "type": "histogram2d"
           }
          ],
          "histogram2dcontour": [
           {
            "colorbar": {
             "outlinewidth": 0,
             "ticks": ""
            },
            "colorscale": [
             [
              0,
              "#0d0887"
             ],
             [
              0.1111111111111111,
              "#46039f"
             ],
             [
              0.2222222222222222,
              "#7201a8"
             ],
             [
              0.3333333333333333,
              "#9c179e"
             ],
             [
              0.4444444444444444,
              "#bd3786"
             ],
             [
              0.5555555555555556,
              "#d8576b"
             ],
             [
              0.6666666666666666,
              "#ed7953"
             ],
             [
              0.7777777777777778,
              "#fb9f3a"
             ],
             [
              0.8888888888888888,
              "#fdca26"
             ],
             [
              1,
              "#f0f921"
             ]
            ],
            "type": "histogram2dcontour"
           }
          ],
          "mesh3d": [
           {
            "colorbar": {
             "outlinewidth": 0,
             "ticks": ""
            },
            "type": "mesh3d"
           }
          ],
          "parcoords": [
           {
            "line": {
             "colorbar": {
              "outlinewidth": 0,
              "ticks": ""
             }
            },
            "type": "parcoords"
           }
          ],
          "pie": [
           {
            "automargin": true,
            "type": "pie"
           }
          ],
          "scatter": [
           {
            "fillpattern": {
             "fillmode": "overlay",
             "size": 10,
             "solidity": 0.2
            },
            "type": "scatter"
           }
          ],
          "scatter3d": [
           {
            "line": {
             "colorbar": {
              "outlinewidth": 0,
              "ticks": ""
             }
            },
            "marker": {
             "colorbar": {
              "outlinewidth": 0,
              "ticks": ""
             }
            },
            "type": "scatter3d"
           }
          ],
          "scattercarpet": [
           {
            "marker": {
             "colorbar": {
              "outlinewidth": 0,
              "ticks": ""
             }
            },
            "type": "scattercarpet"
           }
          ],
          "scattergeo": [
           {
            "marker": {
             "colorbar": {
              "outlinewidth": 0,
              "ticks": ""
             }
            },
            "type": "scattergeo"
           }
          ],
          "scattergl": [
           {
            "marker": {
             "colorbar": {
              "outlinewidth": 0,
              "ticks": ""
             }
            },
            "type": "scattergl"
           }
          ],
          "scattermapbox": [
           {
            "marker": {
             "colorbar": {
              "outlinewidth": 0,
              "ticks": ""
             }
            },
            "type": "scattermapbox"
           }
          ],
          "scatterpolar": [
           {
            "marker": {
             "colorbar": {
              "outlinewidth": 0,
              "ticks": ""
             }
            },
            "type": "scatterpolar"
           }
          ],
          "scatterpolargl": [
           {
            "marker": {
             "colorbar": {
              "outlinewidth": 0,
              "ticks": ""
             }
            },
            "type": "scatterpolargl"
           }
          ],
          "scatterternary": [
           {
            "marker": {
             "colorbar": {
              "outlinewidth": 0,
              "ticks": ""
             }
            },
            "type": "scatterternary"
           }
          ],
          "surface": [
           {
            "colorbar": {
             "outlinewidth": 0,
             "ticks": ""
            },
            "colorscale": [
             [
              0,
              "#0d0887"
             ],
             [
              0.1111111111111111,
              "#46039f"
             ],
             [
              0.2222222222222222,
              "#7201a8"
             ],
             [
              0.3333333333333333,
              "#9c179e"
             ],
             [
              0.4444444444444444,
              "#bd3786"
             ],
             [
              0.5555555555555556,
              "#d8576b"
             ],
             [
              0.6666666666666666,
              "#ed7953"
             ],
             [
              0.7777777777777778,
              "#fb9f3a"
             ],
             [
              0.8888888888888888,
              "#fdca26"
             ],
             [
              1,
              "#f0f921"
             ]
            ],
            "type": "surface"
           }
          ],
          "table": [
           {
            "cells": {
             "fill": {
              "color": "#EBF0F8"
             },
             "line": {
              "color": "white"
             }
            },
            "header": {
             "fill": {
              "color": "#C8D4E3"
             },
             "line": {
              "color": "white"
             }
            },
            "type": "table"
           }
          ]
         },
         "layout": {
          "annotationdefaults": {
           "arrowcolor": "#2a3f5f",
           "arrowhead": 0,
           "arrowwidth": 1
          },
          "autotypenumbers": "strict",
          "coloraxis": {
           "colorbar": {
            "outlinewidth": 0,
            "ticks": ""
           }
          },
          "colorscale": {
           "diverging": [
            [
             0,
             "#8e0152"
            ],
            [
             0.1,
             "#c51b7d"
            ],
            [
             0.2,
             "#de77ae"
            ],
            [
             0.3,
             "#f1b6da"
            ],
            [
             0.4,
             "#fde0ef"
            ],
            [
             0.5,
             "#f7f7f7"
            ],
            [
             0.6,
             "#e6f5d0"
            ],
            [
             0.7,
             "#b8e186"
            ],
            [
             0.8,
             "#7fbc41"
            ],
            [
             0.9,
             "#4d9221"
            ],
            [
             1,
             "#276419"
            ]
           ],
           "sequential": [
            [
             0,
             "#0d0887"
            ],
            [
             0.1111111111111111,
             "#46039f"
            ],
            [
             0.2222222222222222,
             "#7201a8"
            ],
            [
             0.3333333333333333,
             "#9c179e"
            ],
            [
             0.4444444444444444,
             "#bd3786"
            ],
            [
             0.5555555555555556,
             "#d8576b"
            ],
            [
             0.6666666666666666,
             "#ed7953"
            ],
            [
             0.7777777777777778,
             "#fb9f3a"
            ],
            [
             0.8888888888888888,
             "#fdca26"
            ],
            [
             1,
             "#f0f921"
            ]
           ],
           "sequentialminus": [
            [
             0,
             "#0d0887"
            ],
            [
             0.1111111111111111,
             "#46039f"
            ],
            [
             0.2222222222222222,
             "#7201a8"
            ],
            [
             0.3333333333333333,
             "#9c179e"
            ],
            [
             0.4444444444444444,
             "#bd3786"
            ],
            [
             0.5555555555555556,
             "#d8576b"
            ],
            [
             0.6666666666666666,
             "#ed7953"
            ],
            [
             0.7777777777777778,
             "#fb9f3a"
            ],
            [
             0.8888888888888888,
             "#fdca26"
            ],
            [
             1,
             "#f0f921"
            ]
           ]
          },
          "colorway": [
           "#636efa",
           "#EF553B",
           "#00cc96",
           "#ab63fa",
           "#FFA15A",
           "#19d3f3",
           "#FF6692",
           "#B6E880",
           "#FF97FF",
           "#FECB52"
          ],
          "font": {
           "color": "#2a3f5f"
          },
          "geo": {
           "bgcolor": "white",
           "lakecolor": "white",
           "landcolor": "#E5ECF6",
           "showlakes": true,
           "showland": true,
           "subunitcolor": "white"
          },
          "hoverlabel": {
           "align": "left"
          },
          "hovermode": "closest",
          "mapbox": {
           "style": "light"
          },
          "paper_bgcolor": "white",
          "plot_bgcolor": "#E5ECF6",
          "polar": {
           "angularaxis": {
            "gridcolor": "white",
            "linecolor": "white",
            "ticks": ""
           },
           "bgcolor": "#E5ECF6",
           "radialaxis": {
            "gridcolor": "white",
            "linecolor": "white",
            "ticks": ""
           }
          },
          "scene": {
           "xaxis": {
            "backgroundcolor": "#E5ECF6",
            "gridcolor": "white",
            "gridwidth": 2,
            "linecolor": "white",
            "showbackground": true,
            "ticks": "",
            "zerolinecolor": "white"
           },
           "yaxis": {
            "backgroundcolor": "#E5ECF6",
            "gridcolor": "white",
            "gridwidth": 2,
            "linecolor": "white",
            "showbackground": true,
            "ticks": "",
            "zerolinecolor": "white"
           },
           "zaxis": {
            "backgroundcolor": "#E5ECF6",
            "gridcolor": "white",
            "gridwidth": 2,
            "linecolor": "white",
            "showbackground": true,
            "ticks": "",
            "zerolinecolor": "white"
           }
          },
          "shapedefaults": {
           "line": {
            "color": "#2a3f5f"
           }
          },
          "ternary": {
           "aaxis": {
            "gridcolor": "white",
            "linecolor": "white",
            "ticks": ""
           },
           "baxis": {
            "gridcolor": "white",
            "linecolor": "white",
            "ticks": ""
           },
           "bgcolor": "#E5ECF6",
           "caxis": {
            "gridcolor": "white",
            "linecolor": "white",
            "ticks": ""
           }
          },
          "title": {
           "x": 0.05
          },
          "xaxis": {
           "automargin": true,
           "gridcolor": "white",
           "linecolor": "white",
           "ticks": "",
           "title": {
            "standoff": 15
           },
           "zerolinecolor": "white",
           "zerolinewidth": 2
          },
          "yaxis": {
           "automargin": true,
           "gridcolor": "white",
           "linecolor": "white",
           "ticks": "",
           "title": {
            "standoff": 15
           },
           "zerolinecolor": "white",
           "zerolinewidth": 2
          }
         }
        },
        "title": {
         "text": "Pirâmide Etária São Paulo 2022"
        },
        "xaxis": {
         "title": {
          "text": "População"
         }
        },
        "yaxis": {
         "title": {
          "text": "Faixa etária"
         }
        }
       }
      },
      "text/html": [
       "<div>                            <div id=\"361ac7de-6760-4697-bc13-3b40e872e6cb\" class=\"plotly-graph-div\" style=\"height:525px; width:100%;\"></div>            <script type=\"text/javascript\">                require([\"plotly\"], function(Plotly) {                    window.PLOTLYENV=window.PLOTLYENV || {};                                    if (document.getElementById(\"361ac7de-6760-4697-bc13-3b40e872e6cb\")) {                    Plotly.newPlot(                        \"361ac7de-6760-4697-bc13-3b40e872e6cb\",                        [{\"marker\":{\"color\":\"blue\"},\"name\":\"Popula\\u00e7\\u00e3o feminina S\\u00e3o Paulo\",\"orientation\":\"h\",\"x\":[395600,2563500,9390700,20359500,35159300,53381000,79549700,105443700,129494800,143378000,153493000,163916400,190285600,187316500,173052700,165547300,158409100,139681600,133498000,136013000,121157200],\"y\":[\"100 anos ou mais\",\"95 a 99 anos\",\"90 a 94 anos\",\"85 a 89 anos\",\"80 a 84 anos\",\"75 a 79 anos\",\"70 a 74 anos\",\"65 a 69 anos\",\"60 a 64 anos\",\"55 a 59 anos\",\"50 a 54 anos\",\"45 a 49 anos\",\"40 a 44 anos\",\"35 a 39 anos\",\"30 a 34 anos\",\"25 a 29 anos\",\"20 a 24 anos\",\"15 a 19 anos\",\"10 a 14 anos\",\"5 a 9 anos\",\"0 a 4 anos\"],\"type\":\"bar\"},{\"marker\":{\"color\":\"red\"},\"name\":\"Popula\\u00e7\\u00e3o masculina S\\u00e3o Paulo\",\"orientation\":\"h\",\"x\":[-113900,-923700,-4190000,-11014400,-22625000,-37938700,-60845500,-84624400,-107043400,-123349700,-137511000,-148708100,-176449600,-176351400,-167273900,-165067000,-162674500,-146085300,-139723600,-141524700,-125599800],\"y\":[\"100 anos ou mais\",\"95 a 99 anos\",\"90 a 94 anos\",\"85 a 89 anos\",\"80 a 84 anos\",\"75 a 79 anos\",\"70 a 74 anos\",\"65 a 69 anos\",\"60 a 64 anos\",\"55 a 59 anos\",\"50 a 54 anos\",\"45 a 49 anos\",\"40 a 44 anos\",\"35 a 39 anos\",\"30 a 34 anos\",\"25 a 29 anos\",\"20 a 24 anos\",\"15 a 19 anos\",\"10 a 14 anos\",\"5 a 9 anos\",\"0 a 4 anos\"],\"type\":\"bar\"}],                        {\"template\":{\"data\":{\"histogram2dcontour\":[{\"type\":\"histogram2dcontour\",\"colorbar\":{\"outlinewidth\":0,\"ticks\":\"\"},\"colorscale\":[[0.0,\"#0d0887\"],[0.1111111111111111,\"#46039f\"],[0.2222222222222222,\"#7201a8\"],[0.3333333333333333,\"#9c179e\"],[0.4444444444444444,\"#bd3786\"],[0.5555555555555556,\"#d8576b\"],[0.6666666666666666,\"#ed7953\"],[0.7777777777777778,\"#fb9f3a\"],[0.8888888888888888,\"#fdca26\"],[1.0,\"#f0f921\"]]}],\"choropleth\":[{\"type\":\"choropleth\",\"colorbar\":{\"outlinewidth\":0,\"ticks\":\"\"}}],\"histogram2d\":[{\"type\":\"histogram2d\",\"colorbar\":{\"outlinewidth\":0,\"ticks\":\"\"},\"colorscale\":[[0.0,\"#0d0887\"],[0.1111111111111111,\"#46039f\"],[0.2222222222222222,\"#7201a8\"],[0.3333333333333333,\"#9c179e\"],[0.4444444444444444,\"#bd3786\"],[0.5555555555555556,\"#d8576b\"],[0.6666666666666666,\"#ed7953\"],[0.7777777777777778,\"#fb9f3a\"],[0.8888888888888888,\"#fdca26\"],[1.0,\"#f0f921\"]]}],\"heatmap\":[{\"type\":\"heatmap\",\"colorbar\":{\"outlinewidth\":0,\"ticks\":\"\"},\"colorscale\":[[0.0,\"#0d0887\"],[0.1111111111111111,\"#46039f\"],[0.2222222222222222,\"#7201a8\"],[0.3333333333333333,\"#9c179e\"],[0.4444444444444444,\"#bd3786\"],[0.5555555555555556,\"#d8576b\"],[0.6666666666666666,\"#ed7953\"],[0.7777777777777778,\"#fb9f3a\"],[0.8888888888888888,\"#fdca26\"],[1.0,\"#f0f921\"]]}],\"heatmapgl\":[{\"type\":\"heatmapgl\",\"colorbar\":{\"outlinewidth\":0,\"ticks\":\"\"},\"colorscale\":[[0.0,\"#0d0887\"],[0.1111111111111111,\"#46039f\"],[0.2222222222222222,\"#7201a8\"],[0.3333333333333333,\"#9c179e\"],[0.4444444444444444,\"#bd3786\"],[0.5555555555555556,\"#d8576b\"],[0.6666666666666666,\"#ed7953\"],[0.7777777777777778,\"#fb9f3a\"],[0.8888888888888888,\"#fdca26\"],[1.0,\"#f0f921\"]]}],\"contourcarpet\":[{\"type\":\"contourcarpet\",\"colorbar\":{\"outlinewidth\":0,\"ticks\":\"\"}}],\"contour\":[{\"type\":\"contour\",\"colorbar\":{\"outlinewidth\":0,\"ticks\":\"\"},\"colorscale\":[[0.0,\"#0d0887\"],[0.1111111111111111,\"#46039f\"],[0.2222222222222222,\"#7201a8\"],[0.3333333333333333,\"#9c179e\"],[0.4444444444444444,\"#bd3786\"],[0.5555555555555556,\"#d8576b\"],[0.6666666666666666,\"#ed7953\"],[0.7777777777777778,\"#fb9f3a\"],[0.8888888888888888,\"#fdca26\"],[1.0,\"#f0f921\"]]}],\"surface\":[{\"type\":\"surface\",\"colorbar\":{\"outlinewidth\":0,\"ticks\":\"\"},\"colorscale\":[[0.0,\"#0d0887\"],[0.1111111111111111,\"#46039f\"],[0.2222222222222222,\"#7201a8\"],[0.3333333333333333,\"#9c179e\"],[0.4444444444444444,\"#bd3786\"],[0.5555555555555556,\"#d8576b\"],[0.6666666666666666,\"#ed7953\"],[0.7777777777777778,\"#fb9f3a\"],[0.8888888888888888,\"#fdca26\"],[1.0,\"#f0f921\"]]}],\"mesh3d\":[{\"type\":\"mesh3d\",\"colorbar\":{\"outlinewidth\":0,\"ticks\":\"\"}}],\"scatter\":[{\"fillpattern\":{\"fillmode\":\"overlay\",\"size\":10,\"solidity\":0.2},\"type\":\"scatter\"}],\"parcoords\":[{\"type\":\"parcoords\",\"line\":{\"colorbar\":{\"outlinewidth\":0,\"ticks\":\"\"}}}],\"scatterpolargl\":[{\"type\":\"scatterpolargl\",\"marker\":{\"colorbar\":{\"outlinewidth\":0,\"ticks\":\"\"}}}],\"bar\":[{\"error_x\":{\"color\":\"#2a3f5f\"},\"error_y\":{\"color\":\"#2a3f5f\"},\"marker\":{\"line\":{\"color\":\"#E5ECF6\",\"width\":0.5},\"pattern\":{\"fillmode\":\"overlay\",\"size\":10,\"solidity\":0.2}},\"type\":\"bar\"}],\"scattergeo\":[{\"type\":\"scattergeo\",\"marker\":{\"colorbar\":{\"outlinewidth\":0,\"ticks\":\"\"}}}],\"scatterpolar\":[{\"type\":\"scatterpolar\",\"marker\":{\"colorbar\":{\"outlinewidth\":0,\"ticks\":\"\"}}}],\"histogram\":[{\"marker\":{\"pattern\":{\"fillmode\":\"overlay\",\"size\":10,\"solidity\":0.2}},\"type\":\"histogram\"}],\"scattergl\":[{\"type\":\"scattergl\",\"marker\":{\"colorbar\":{\"outlinewidth\":0,\"ticks\":\"\"}}}],\"scatter3d\":[{\"type\":\"scatter3d\",\"line\":{\"colorbar\":{\"outlinewidth\":0,\"ticks\":\"\"}},\"marker\":{\"colorbar\":{\"outlinewidth\":0,\"ticks\":\"\"}}}],\"scattermapbox\":[{\"type\":\"scattermapbox\",\"marker\":{\"colorbar\":{\"outlinewidth\":0,\"ticks\":\"\"}}}],\"scatterternary\":[{\"type\":\"scatterternary\",\"marker\":{\"colorbar\":{\"outlinewidth\":0,\"ticks\":\"\"}}}],\"scattercarpet\":[{\"type\":\"scattercarpet\",\"marker\":{\"colorbar\":{\"outlinewidth\":0,\"ticks\":\"\"}}}],\"carpet\":[{\"aaxis\":{\"endlinecolor\":\"#2a3f5f\",\"gridcolor\":\"white\",\"linecolor\":\"white\",\"minorgridcolor\":\"white\",\"startlinecolor\":\"#2a3f5f\"},\"baxis\":{\"endlinecolor\":\"#2a3f5f\",\"gridcolor\":\"white\",\"linecolor\":\"white\",\"minorgridcolor\":\"white\",\"startlinecolor\":\"#2a3f5f\"},\"type\":\"carpet\"}],\"table\":[{\"cells\":{\"fill\":{\"color\":\"#EBF0F8\"},\"line\":{\"color\":\"white\"}},\"header\":{\"fill\":{\"color\":\"#C8D4E3\"},\"line\":{\"color\":\"white\"}},\"type\":\"table\"}],\"barpolar\":[{\"marker\":{\"line\":{\"color\":\"#E5ECF6\",\"width\":0.5},\"pattern\":{\"fillmode\":\"overlay\",\"size\":10,\"solidity\":0.2}},\"type\":\"barpolar\"}],\"pie\":[{\"automargin\":true,\"type\":\"pie\"}]},\"layout\":{\"autotypenumbers\":\"strict\",\"colorway\":[\"#636efa\",\"#EF553B\",\"#00cc96\",\"#ab63fa\",\"#FFA15A\",\"#19d3f3\",\"#FF6692\",\"#B6E880\",\"#FF97FF\",\"#FECB52\"],\"font\":{\"color\":\"#2a3f5f\"},\"hovermode\":\"closest\",\"hoverlabel\":{\"align\":\"left\"},\"paper_bgcolor\":\"white\",\"plot_bgcolor\":\"#E5ECF6\",\"polar\":{\"bgcolor\":\"#E5ECF6\",\"angularaxis\":{\"gridcolor\":\"white\",\"linecolor\":\"white\",\"ticks\":\"\"},\"radialaxis\":{\"gridcolor\":\"white\",\"linecolor\":\"white\",\"ticks\":\"\"}},\"ternary\":{\"bgcolor\":\"#E5ECF6\",\"aaxis\":{\"gridcolor\":\"white\",\"linecolor\":\"white\",\"ticks\":\"\"},\"baxis\":{\"gridcolor\":\"white\",\"linecolor\":\"white\",\"ticks\":\"\"},\"caxis\":{\"gridcolor\":\"white\",\"linecolor\":\"white\",\"ticks\":\"\"}},\"coloraxis\":{\"colorbar\":{\"outlinewidth\":0,\"ticks\":\"\"}},\"colorscale\":{\"sequential\":[[0.0,\"#0d0887\"],[0.1111111111111111,\"#46039f\"],[0.2222222222222222,\"#7201a8\"],[0.3333333333333333,\"#9c179e\"],[0.4444444444444444,\"#bd3786\"],[0.5555555555555556,\"#d8576b\"],[0.6666666666666666,\"#ed7953\"],[0.7777777777777778,\"#fb9f3a\"],[0.8888888888888888,\"#fdca26\"],[1.0,\"#f0f921\"]],\"sequentialminus\":[[0.0,\"#0d0887\"],[0.1111111111111111,\"#46039f\"],[0.2222222222222222,\"#7201a8\"],[0.3333333333333333,\"#9c179e\"],[0.4444444444444444,\"#bd3786\"],[0.5555555555555556,\"#d8576b\"],[0.6666666666666666,\"#ed7953\"],[0.7777777777777778,\"#fb9f3a\"],[0.8888888888888888,\"#fdca26\"],[1.0,\"#f0f921\"]],\"diverging\":[[0,\"#8e0152\"],[0.1,\"#c51b7d\"],[0.2,\"#de77ae\"],[0.3,\"#f1b6da\"],[0.4,\"#fde0ef\"],[0.5,\"#f7f7f7\"],[0.6,\"#e6f5d0\"],[0.7,\"#b8e186\"],[0.8,\"#7fbc41\"],[0.9,\"#4d9221\"],[1,\"#276419\"]]},\"xaxis\":{\"gridcolor\":\"white\",\"linecolor\":\"white\",\"ticks\":\"\",\"title\":{\"standoff\":15},\"zerolinecolor\":\"white\",\"automargin\":true,\"zerolinewidth\":2},\"yaxis\":{\"gridcolor\":\"white\",\"linecolor\":\"white\",\"ticks\":\"\",\"title\":{\"standoff\":15},\"zerolinecolor\":\"white\",\"automargin\":true,\"zerolinewidth\":2},\"scene\":{\"xaxis\":{\"backgroundcolor\":\"#E5ECF6\",\"gridcolor\":\"white\",\"linecolor\":\"white\",\"showbackground\":true,\"ticks\":\"\",\"zerolinecolor\":\"white\",\"gridwidth\":2},\"yaxis\":{\"backgroundcolor\":\"#E5ECF6\",\"gridcolor\":\"white\",\"linecolor\":\"white\",\"showbackground\":true,\"ticks\":\"\",\"zerolinecolor\":\"white\",\"gridwidth\":2},\"zaxis\":{\"backgroundcolor\":\"#E5ECF6\",\"gridcolor\":\"white\",\"linecolor\":\"white\",\"showbackground\":true,\"ticks\":\"\",\"zerolinecolor\":\"white\",\"gridwidth\":2}},\"shapedefaults\":{\"line\":{\"color\":\"#2a3f5f\"}},\"annotationdefaults\":{\"arrowcolor\":\"#2a3f5f\",\"arrowhead\":0,\"arrowwidth\":1},\"geo\":{\"bgcolor\":\"white\",\"landcolor\":\"#E5ECF6\",\"subunitcolor\":\"white\",\"showland\":true,\"showlakes\":true,\"lakecolor\":\"white\"},\"title\":{\"x\":0.05},\"mapbox\":{\"style\":\"light\"}}},\"title\":{\"text\":\"Pir\\u00e2mide Et\\u00e1ria S\\u00e3o Paulo 2022\"},\"xaxis\":{\"title\":{\"text\":\"Popula\\u00e7\\u00e3o\"}},\"yaxis\":{\"title\":{\"text\":\"Faixa et\\u00e1ria\"}},\"barmode\":\"relative\",\"bargap\":0.1,\"bargroupgap\":0.05},                        {\"responsive\": true}                    ).then(function(){\n",
       "                            \n",
       "var gd = document.getElementById('361ac7de-6760-4697-bc13-3b40e872e6cb');\n",
       "var x = new MutationObserver(function (mutations, observer) {{\n",
       "        var display = window.getComputedStyle(gd).display;\n",
       "        if (!display || display === 'none') {{\n",
       "            console.log([gd, 'removed!']);\n",
       "            Plotly.purge(gd);\n",
       "            observer.disconnect();\n",
       "        }}\n",
       "}});\n",
       "\n",
       "// Listen for the removal of the full notebook cells\n",
       "var notebookContainer = gd.closest('#notebook-container');\n",
       "if (notebookContainer) {{\n",
       "    x.observe(notebookContainer, {childList: true});\n",
       "}}\n",
       "\n",
       "// Listen for the clearing of the current output cell\n",
       "var outputEl = gd.closest('.output');\n",
       "if (outputEl) {{\n",
       "    x.observe(outputEl, {childList: true});\n",
       "}}\n",
       "\n",
       "                        })                };                });            </script>        </div>"
      ]
     },
     "metadata": {},
     "output_type": "display_data"
    }
   ],
   "source": [
    "import plotly.graph_objects as go\n",
    "\n",
    "idades = dados_cit2_r[\"Grupo de idade\"]\n",
    "pop_feminina = dados_cit2_r[\"Popfem2\"]\n",
    "pop_masculina = dados_cit2_r[\"Popmasc\"]\n",
    "\n",
    "# Criando o gráfico interativo\n",
    "fig = go.Figure()\n",
    "\n",
    "# Adicionando barras de população feminina e masculina\n",
    "fig.add_trace(go.Bar(\n",
    "    y=idades,\n",
    "    x=pop_feminina,\n",
    "    name='População feminina São Paulo',\n",
    "    orientation='h',\n",
    "    marker=dict(color='blue')\n",
    "))\n",
    "\n",
    "fig.add_trace(go.Bar(\n",
    "    y=idades,\n",
    "    x=pop_masculina,\n",
    "    name='População masculina São Paulo',\n",
    "    orientation='h',\n",
    "    marker=dict(color='red')\n",
    "))\n",
    "\n",
    "# Atualizando layout\n",
    "fig.update_layout(\n",
    "    title='Pirâmide Etária São Paulo 2022',\n",
    "    xaxis_title='População',\n",
    "    yaxis_title='Faixa etária',\n",
    "    barmode='relative',\n",
    "    bargap=0.1,  # Espaçamento entre barras\n",
    "    bargroupgap=0.05  # Espaçamento entre grupos de barras\n",
    ")\n",
    "\n",
    "# Exibindo o gráfico interativo\n",
    "fig.show()\n"
   ]
  },
  {
   "cell_type": "code",
   "execution_count": 23,
   "id": "daea27b8",
   "metadata": {},
   "outputs": [
    {
     "data": {
      "application/vnd.plotly.v1+json": {
       "config": {
        "plotlyServerURL": "https://plot.ly"
       },
       "data": [
        {
         "line": {
          "color": "blue"
         },
         "mode": "lines",
         "name": "População feminina São Paulo",
         "type": "scatter",
         "x": [
          "100 anos ou mais",
          "95 a 99 anos",
          "90 a 94 anos",
          "85 a 89 anos",
          "80 a 84 anos",
          "75 a 79 anos",
          "70 a 74 anos",
          "65 a 69 anos",
          "60 a 64 anos",
          "55 a 59 anos",
          "50 a 54 anos",
          "45 a 49 anos",
          "40 a 44 anos",
          "35 a 39 anos",
          "30 a 34 anos",
          "25 a 29 anos",
          "20 a 24 anos",
          "15 a 19 anos",
          "10 a 14 anos",
          "5 a 9 anos",
          "0 a 4 anos"
         ],
         "y": [
          395600,
          2563500,
          9390700,
          20359500,
          35159300,
          53381000,
          79549700,
          105443700,
          129494800,
          143378000,
          153493000,
          163916400,
          190285600,
          187316500,
          173052700,
          165547300,
          158409100,
          139681600,
          133498000,
          136013000,
          121157200
         ]
        },
        {
         "line": {
          "color": "purple"
         },
         "mode": "lines",
         "name": "População masculina São Paulo",
         "type": "scatter",
         "x": [
          "100 anos ou mais",
          "95 a 99 anos",
          "90 a 94 anos",
          "85 a 89 anos",
          "80 a 84 anos",
          "75 a 79 anos",
          "70 a 74 anos",
          "65 a 69 anos",
          "60 a 64 anos",
          "55 a 59 anos",
          "50 a 54 anos",
          "45 a 49 anos",
          "40 a 44 anos",
          "35 a 39 anos",
          "30 a 34 anos",
          "25 a 29 anos",
          "20 a 24 anos",
          "15 a 19 anos",
          "10 a 14 anos",
          "5 a 9 anos",
          "0 a 4 anos"
         ],
         "y": [
          -113900,
          -923700,
          -4190000,
          -11014400,
          -22625000,
          -37938700,
          -60845500,
          -84624400,
          -107043400,
          -123349700,
          -137511000,
          -148708100,
          -176449600,
          -176351400,
          -167273900,
          -165067000,
          -162674500,
          -146085300,
          -139723600,
          -141524700,
          -125599800
         ]
        },
        {
         "line": {
          "color": "red"
         },
         "mode": "lines",
         "name": "População feminina Rio",
         "type": "scatter",
         "x": [
          "100 anos ou mais",
          "95 a 99 anos",
          "90 a 94 anos",
          "85 a 89 anos",
          "80 a 84 anos",
          "75 a 79 anos",
          "70 a 74 anos",
          "65 a 69 anos",
          "60 a 64 anos",
          "55 a 59 anos",
          "50 a 54 anos",
          "45 a 49 anos",
          "40 a 44 anos",
          "35 a 39 anos",
          "30 a 34 anos",
          "25 a 29 anos",
          "20 a 24 anos",
          "15 a 19 anos",
          "10 a 14 anos",
          "5 a 9 anos",
          "0 a 4 anos"
         ],
         "y": [
          222500,
          1214200,
          4178900,
          8652100,
          14478300,
          21342600,
          32442000,
          42808700,
          50985100,
          54876900,
          56826400,
          58905700,
          68072800,
          64132800,
          60763000,
          60036700,
          57893400,
          49803900,
          47016900,
          49829500,
          43267500
         ]
        },
        {
         "line": {
          "color": "magenta"
         },
         "mode": "lines",
         "name": "População masculina Rio",
         "type": "scatter",
         "x": [
          "100 anos ou mais",
          "95 a 99 anos",
          "90 a 94 anos",
          "85 a 89 anos",
          "80 a 84 anos",
          "75 a 79 anos",
          "70 a 74 anos",
          "65 a 69 anos",
          "60 a 64 anos",
          "55 a 59 anos",
          "50 a 54 anos",
          "45 a 49 anos",
          "40 a 44 anos",
          "35 a 39 anos",
          "30 a 34 anos",
          "25 a 29 anos",
          "20 a 24 anos",
          "15 a 19 anos",
          "10 a 14 anos",
          "5 a 9 anos",
          "0 a 4 anos"
         ],
         "y": [
          -48700,
          -365800,
          -1619600,
          -4169200,
          -8459300,
          -14023000,
          -23521200,
          -32773000,
          -41258700,
          -46160600,
          -49448600,
          -51936500,
          -61231300,
          -57323600,
          -55470200,
          -56055900,
          -57007700,
          -51393900,
          -49446700,
          -51744600,
          -44309400
         ]
        }
       ],
       "layout": {
        "template": {
         "data": {
          "bar": [
           {
            "error_x": {
             "color": "#2a3f5f"
            },
            "error_y": {
             "color": "#2a3f5f"
            },
            "marker": {
             "line": {
              "color": "#E5ECF6",
              "width": 0.5
             },
             "pattern": {
              "fillmode": "overlay",
              "size": 10,
              "solidity": 0.2
             }
            },
            "type": "bar"
           }
          ],
          "barpolar": [
           {
            "marker": {
             "line": {
              "color": "#E5ECF6",
              "width": 0.5
             },
             "pattern": {
              "fillmode": "overlay",
              "size": 10,
              "solidity": 0.2
             }
            },
            "type": "barpolar"
           }
          ],
          "carpet": [
           {
            "aaxis": {
             "endlinecolor": "#2a3f5f",
             "gridcolor": "white",
             "linecolor": "white",
             "minorgridcolor": "white",
             "startlinecolor": "#2a3f5f"
            },
            "baxis": {
             "endlinecolor": "#2a3f5f",
             "gridcolor": "white",
             "linecolor": "white",
             "minorgridcolor": "white",
             "startlinecolor": "#2a3f5f"
            },
            "type": "carpet"
           }
          ],
          "choropleth": [
           {
            "colorbar": {
             "outlinewidth": 0,
             "ticks": ""
            },
            "type": "choropleth"
           }
          ],
          "contour": [
           {
            "colorbar": {
             "outlinewidth": 0,
             "ticks": ""
            },
            "colorscale": [
             [
              0,
              "#0d0887"
             ],
             [
              0.1111111111111111,
              "#46039f"
             ],
             [
              0.2222222222222222,
              "#7201a8"
             ],
             [
              0.3333333333333333,
              "#9c179e"
             ],
             [
              0.4444444444444444,
              "#bd3786"
             ],
             [
              0.5555555555555556,
              "#d8576b"
             ],
             [
              0.6666666666666666,
              "#ed7953"
             ],
             [
              0.7777777777777778,
              "#fb9f3a"
             ],
             [
              0.8888888888888888,
              "#fdca26"
             ],
             [
              1,
              "#f0f921"
             ]
            ],
            "type": "contour"
           }
          ],
          "contourcarpet": [
           {
            "colorbar": {
             "outlinewidth": 0,
             "ticks": ""
            },
            "type": "contourcarpet"
           }
          ],
          "heatmap": [
           {
            "colorbar": {
             "outlinewidth": 0,
             "ticks": ""
            },
            "colorscale": [
             [
              0,
              "#0d0887"
             ],
             [
              0.1111111111111111,
              "#46039f"
             ],
             [
              0.2222222222222222,
              "#7201a8"
             ],
             [
              0.3333333333333333,
              "#9c179e"
             ],
             [
              0.4444444444444444,
              "#bd3786"
             ],
             [
              0.5555555555555556,
              "#d8576b"
             ],
             [
              0.6666666666666666,
              "#ed7953"
             ],
             [
              0.7777777777777778,
              "#fb9f3a"
             ],
             [
              0.8888888888888888,
              "#fdca26"
             ],
             [
              1,
              "#f0f921"
             ]
            ],
            "type": "heatmap"
           }
          ],
          "heatmapgl": [
           {
            "colorbar": {
             "outlinewidth": 0,
             "ticks": ""
            },
            "colorscale": [
             [
              0,
              "#0d0887"
             ],
             [
              0.1111111111111111,
              "#46039f"
             ],
             [
              0.2222222222222222,
              "#7201a8"
             ],
             [
              0.3333333333333333,
              "#9c179e"
             ],
             [
              0.4444444444444444,
              "#bd3786"
             ],
             [
              0.5555555555555556,
              "#d8576b"
             ],
             [
              0.6666666666666666,
              "#ed7953"
             ],
             [
              0.7777777777777778,
              "#fb9f3a"
             ],
             [
              0.8888888888888888,
              "#fdca26"
             ],
             [
              1,
              "#f0f921"
             ]
            ],
            "type": "heatmapgl"
           }
          ],
          "histogram": [
           {
            "marker": {
             "pattern": {
              "fillmode": "overlay",
              "size": 10,
              "solidity": 0.2
             }
            },
            "type": "histogram"
           }
          ],
          "histogram2d": [
           {
            "colorbar": {
             "outlinewidth": 0,
             "ticks": ""
            },
            "colorscale": [
             [
              0,
              "#0d0887"
             ],
             [
              0.1111111111111111,
              "#46039f"
             ],
             [
              0.2222222222222222,
              "#7201a8"
             ],
             [
              0.3333333333333333,
              "#9c179e"
             ],
             [
              0.4444444444444444,
              "#bd3786"
             ],
             [
              0.5555555555555556,
              "#d8576b"
             ],
             [
              0.6666666666666666,
              "#ed7953"
             ],
             [
              0.7777777777777778,
              "#fb9f3a"
             ],
             [
              0.8888888888888888,
              "#fdca26"
             ],
             [
              1,
              "#f0f921"
             ]
            ],
            "type": "histogram2d"
           }
          ],
          "histogram2dcontour": [
           {
            "colorbar": {
             "outlinewidth": 0,
             "ticks": ""
            },
            "colorscale": [
             [
              0,
              "#0d0887"
             ],
             [
              0.1111111111111111,
              "#46039f"
             ],
             [
              0.2222222222222222,
              "#7201a8"
             ],
             [
              0.3333333333333333,
              "#9c179e"
             ],
             [
              0.4444444444444444,
              "#bd3786"
             ],
             [
              0.5555555555555556,
              "#d8576b"
             ],
             [
              0.6666666666666666,
              "#ed7953"
             ],
             [
              0.7777777777777778,
              "#fb9f3a"
             ],
             [
              0.8888888888888888,
              "#fdca26"
             ],
             [
              1,
              "#f0f921"
             ]
            ],
            "type": "histogram2dcontour"
           }
          ],
          "mesh3d": [
           {
            "colorbar": {
             "outlinewidth": 0,
             "ticks": ""
            },
            "type": "mesh3d"
           }
          ],
          "parcoords": [
           {
            "line": {
             "colorbar": {
              "outlinewidth": 0,
              "ticks": ""
             }
            },
            "type": "parcoords"
           }
          ],
          "pie": [
           {
            "automargin": true,
            "type": "pie"
           }
          ],
          "scatter": [
           {
            "fillpattern": {
             "fillmode": "overlay",
             "size": 10,
             "solidity": 0.2
            },
            "type": "scatter"
           }
          ],
          "scatter3d": [
           {
            "line": {
             "colorbar": {
              "outlinewidth": 0,
              "ticks": ""
             }
            },
            "marker": {
             "colorbar": {
              "outlinewidth": 0,
              "ticks": ""
             }
            },
            "type": "scatter3d"
           }
          ],
          "scattercarpet": [
           {
            "marker": {
             "colorbar": {
              "outlinewidth": 0,
              "ticks": ""
             }
            },
            "type": "scattercarpet"
           }
          ],
          "scattergeo": [
           {
            "marker": {
             "colorbar": {
              "outlinewidth": 0,
              "ticks": ""
             }
            },
            "type": "scattergeo"
           }
          ],
          "scattergl": [
           {
            "marker": {
             "colorbar": {
              "outlinewidth": 0,
              "ticks": ""
             }
            },
            "type": "scattergl"
           }
          ],
          "scattermapbox": [
           {
            "marker": {
             "colorbar": {
              "outlinewidth": 0,
              "ticks": ""
             }
            },
            "type": "scattermapbox"
           }
          ],
          "scatterpolar": [
           {
            "marker": {
             "colorbar": {
              "outlinewidth": 0,
              "ticks": ""
             }
            },
            "type": "scatterpolar"
           }
          ],
          "scatterpolargl": [
           {
            "marker": {
             "colorbar": {
              "outlinewidth": 0,
              "ticks": ""
             }
            },
            "type": "scatterpolargl"
           }
          ],
          "scatterternary": [
           {
            "marker": {
             "colorbar": {
              "outlinewidth": 0,
              "ticks": ""
             }
            },
            "type": "scatterternary"
           }
          ],
          "surface": [
           {
            "colorbar": {
             "outlinewidth": 0,
             "ticks": ""
            },
            "colorscale": [
             [
              0,
              "#0d0887"
             ],
             [
              0.1111111111111111,
              "#46039f"
             ],
             [
              0.2222222222222222,
              "#7201a8"
             ],
             [
              0.3333333333333333,
              "#9c179e"
             ],
             [
              0.4444444444444444,
              "#bd3786"
             ],
             [
              0.5555555555555556,
              "#d8576b"
             ],
             [
              0.6666666666666666,
              "#ed7953"
             ],
             [
              0.7777777777777778,
              "#fb9f3a"
             ],
             [
              0.8888888888888888,
              "#fdca26"
             ],
             [
              1,
              "#f0f921"
             ]
            ],
            "type": "surface"
           }
          ],
          "table": [
           {
            "cells": {
             "fill": {
              "color": "#EBF0F8"
             },
             "line": {
              "color": "white"
             }
            },
            "header": {
             "fill": {
              "color": "#C8D4E3"
             },
             "line": {
              "color": "white"
             }
            },
            "type": "table"
           }
          ]
         },
         "layout": {
          "annotationdefaults": {
           "arrowcolor": "#2a3f5f",
           "arrowhead": 0,
           "arrowwidth": 1
          },
          "autotypenumbers": "strict",
          "coloraxis": {
           "colorbar": {
            "outlinewidth": 0,
            "ticks": ""
           }
          },
          "colorscale": {
           "diverging": [
            [
             0,
             "#8e0152"
            ],
            [
             0.1,
             "#c51b7d"
            ],
            [
             0.2,
             "#de77ae"
            ],
            [
             0.3,
             "#f1b6da"
            ],
            [
             0.4,
             "#fde0ef"
            ],
            [
             0.5,
             "#f7f7f7"
            ],
            [
             0.6,
             "#e6f5d0"
            ],
            [
             0.7,
             "#b8e186"
            ],
            [
             0.8,
             "#7fbc41"
            ],
            [
             0.9,
             "#4d9221"
            ],
            [
             1,
             "#276419"
            ]
           ],
           "sequential": [
            [
             0,
             "#0d0887"
            ],
            [
             0.1111111111111111,
             "#46039f"
            ],
            [
             0.2222222222222222,
             "#7201a8"
            ],
            [
             0.3333333333333333,
             "#9c179e"
            ],
            [
             0.4444444444444444,
             "#bd3786"
            ],
            [
             0.5555555555555556,
             "#d8576b"
            ],
            [
             0.6666666666666666,
             "#ed7953"
            ],
            [
             0.7777777777777778,
             "#fb9f3a"
            ],
            [
             0.8888888888888888,
             "#fdca26"
            ],
            [
             1,
             "#f0f921"
            ]
           ],
           "sequentialminus": [
            [
             0,
             "#0d0887"
            ],
            [
             0.1111111111111111,
             "#46039f"
            ],
            [
             0.2222222222222222,
             "#7201a8"
            ],
            [
             0.3333333333333333,
             "#9c179e"
            ],
            [
             0.4444444444444444,
             "#bd3786"
            ],
            [
             0.5555555555555556,
             "#d8576b"
            ],
            [
             0.6666666666666666,
             "#ed7953"
            ],
            [
             0.7777777777777778,
             "#fb9f3a"
            ],
            [
             0.8888888888888888,
             "#fdca26"
            ],
            [
             1,
             "#f0f921"
            ]
           ]
          },
          "colorway": [
           "#636efa",
           "#EF553B",
           "#00cc96",
           "#ab63fa",
           "#FFA15A",
           "#19d3f3",
           "#FF6692",
           "#B6E880",
           "#FF97FF",
           "#FECB52"
          ],
          "font": {
           "color": "#2a3f5f"
          },
          "geo": {
           "bgcolor": "white",
           "lakecolor": "white",
           "landcolor": "#E5ECF6",
           "showlakes": true,
           "showland": true,
           "subunitcolor": "white"
          },
          "hoverlabel": {
           "align": "left"
          },
          "hovermode": "closest",
          "mapbox": {
           "style": "light"
          },
          "paper_bgcolor": "white",
          "plot_bgcolor": "#E5ECF6",
          "polar": {
           "angularaxis": {
            "gridcolor": "white",
            "linecolor": "white",
            "ticks": ""
           },
           "bgcolor": "#E5ECF6",
           "radialaxis": {
            "gridcolor": "white",
            "linecolor": "white",
            "ticks": ""
           }
          },
          "scene": {
           "xaxis": {
            "backgroundcolor": "#E5ECF6",
            "gridcolor": "white",
            "gridwidth": 2,
            "linecolor": "white",
            "showbackground": true,
            "ticks": "",
            "zerolinecolor": "white"
           },
           "yaxis": {
            "backgroundcolor": "#E5ECF6",
            "gridcolor": "white",
            "gridwidth": 2,
            "linecolor": "white",
            "showbackground": true,
            "ticks": "",
            "zerolinecolor": "white"
           },
           "zaxis": {
            "backgroundcolor": "#E5ECF6",
            "gridcolor": "white",
            "gridwidth": 2,
            "linecolor": "white",
            "showbackground": true,
            "ticks": "",
            "zerolinecolor": "white"
           }
          },
          "shapedefaults": {
           "line": {
            "color": "#2a3f5f"
           }
          },
          "ternary": {
           "aaxis": {
            "gridcolor": "white",
            "linecolor": "white",
            "ticks": ""
           },
           "baxis": {
            "gridcolor": "white",
            "linecolor": "white",
            "ticks": ""
           },
           "bgcolor": "#E5ECF6",
           "caxis": {
            "gridcolor": "white",
            "linecolor": "white",
            "ticks": ""
           }
          },
          "title": {
           "x": 0.05
          },
          "xaxis": {
           "automargin": true,
           "gridcolor": "white",
           "linecolor": "white",
           "ticks": "",
           "title": {
            "standoff": 15
           },
           "zerolinecolor": "white",
           "zerolinewidth": 2
          },
          "yaxis": {
           "automargin": true,
           "gridcolor": "white",
           "linecolor": "white",
           "ticks": "",
           "title": {
            "standoff": 15
           },
           "zerolinecolor": "white",
           "zerolinewidth": 2
          }
         }
        },
        "title": {
         "text": "Comparação das Pirâmides Etárias de São Paulo e Rio de Janeiro 2022"
        },
        "xaxis": {
         "title": {
          "text": "Faixa etária"
         }
        },
        "yaxis": {
         "title": {
          "text": "População"
         }
        }
       }
      },
      "text/html": [
       "<div>                            <div id=\"a200a35f-28b5-4ca7-9dee-87df06cfc2de\" class=\"plotly-graph-div\" style=\"height:525px; width:100%;\"></div>            <script type=\"text/javascript\">                require([\"plotly\"], function(Plotly) {                    window.PLOTLYENV=window.PLOTLYENV || {};                                    if (document.getElementById(\"a200a35f-28b5-4ca7-9dee-87df06cfc2de\")) {                    Plotly.newPlot(                        \"a200a35f-28b5-4ca7-9dee-87df06cfc2de\",                        [{\"line\":{\"color\":\"blue\"},\"mode\":\"lines\",\"name\":\"Popula\\u00e7\\u00e3o feminina S\\u00e3o Paulo\",\"x\":[\"100 anos ou mais\",\"95 a 99 anos\",\"90 a 94 anos\",\"85 a 89 anos\",\"80 a 84 anos\",\"75 a 79 anos\",\"70 a 74 anos\",\"65 a 69 anos\",\"60 a 64 anos\",\"55 a 59 anos\",\"50 a 54 anos\",\"45 a 49 anos\",\"40 a 44 anos\",\"35 a 39 anos\",\"30 a 34 anos\",\"25 a 29 anos\",\"20 a 24 anos\",\"15 a 19 anos\",\"10 a 14 anos\",\"5 a 9 anos\",\"0 a 4 anos\"],\"y\":[395600,2563500,9390700,20359500,35159300,53381000,79549700,105443700,129494800,143378000,153493000,163916400,190285600,187316500,173052700,165547300,158409100,139681600,133498000,136013000,121157200],\"type\":\"scatter\"},{\"line\":{\"color\":\"purple\"},\"mode\":\"lines\",\"name\":\"Popula\\u00e7\\u00e3o masculina S\\u00e3o Paulo\",\"x\":[\"100 anos ou mais\",\"95 a 99 anos\",\"90 a 94 anos\",\"85 a 89 anos\",\"80 a 84 anos\",\"75 a 79 anos\",\"70 a 74 anos\",\"65 a 69 anos\",\"60 a 64 anos\",\"55 a 59 anos\",\"50 a 54 anos\",\"45 a 49 anos\",\"40 a 44 anos\",\"35 a 39 anos\",\"30 a 34 anos\",\"25 a 29 anos\",\"20 a 24 anos\",\"15 a 19 anos\",\"10 a 14 anos\",\"5 a 9 anos\",\"0 a 4 anos\"],\"y\":[-113900,-923700,-4190000,-11014400,-22625000,-37938700,-60845500,-84624400,-107043400,-123349700,-137511000,-148708100,-176449600,-176351400,-167273900,-165067000,-162674500,-146085300,-139723600,-141524700,-125599800],\"type\":\"scatter\"},{\"line\":{\"color\":\"red\"},\"mode\":\"lines\",\"name\":\"Popula\\u00e7\\u00e3o feminina Rio\",\"x\":[\"100 anos ou mais\",\"95 a 99 anos\",\"90 a 94 anos\",\"85 a 89 anos\",\"80 a 84 anos\",\"75 a 79 anos\",\"70 a 74 anos\",\"65 a 69 anos\",\"60 a 64 anos\",\"55 a 59 anos\",\"50 a 54 anos\",\"45 a 49 anos\",\"40 a 44 anos\",\"35 a 39 anos\",\"30 a 34 anos\",\"25 a 29 anos\",\"20 a 24 anos\",\"15 a 19 anos\",\"10 a 14 anos\",\"5 a 9 anos\",\"0 a 4 anos\"],\"y\":[222500,1214200,4178900,8652100,14478300,21342600,32442000,42808700,50985100,54876900,56826400,58905700,68072800,64132800,60763000,60036700,57893400,49803900,47016900,49829500,43267500],\"type\":\"scatter\"},{\"line\":{\"color\":\"magenta\"},\"mode\":\"lines\",\"name\":\"Popula\\u00e7\\u00e3o masculina Rio\",\"x\":[\"100 anos ou mais\",\"95 a 99 anos\",\"90 a 94 anos\",\"85 a 89 anos\",\"80 a 84 anos\",\"75 a 79 anos\",\"70 a 74 anos\",\"65 a 69 anos\",\"60 a 64 anos\",\"55 a 59 anos\",\"50 a 54 anos\",\"45 a 49 anos\",\"40 a 44 anos\",\"35 a 39 anos\",\"30 a 34 anos\",\"25 a 29 anos\",\"20 a 24 anos\",\"15 a 19 anos\",\"10 a 14 anos\",\"5 a 9 anos\",\"0 a 4 anos\"],\"y\":[-48700,-365800,-1619600,-4169200,-8459300,-14023000,-23521200,-32773000,-41258700,-46160600,-49448600,-51936500,-61231300,-57323600,-55470200,-56055900,-57007700,-51393900,-49446700,-51744600,-44309400],\"type\":\"scatter\"}],                        {\"template\":{\"data\":{\"histogram2dcontour\":[{\"type\":\"histogram2dcontour\",\"colorbar\":{\"outlinewidth\":0,\"ticks\":\"\"},\"colorscale\":[[0.0,\"#0d0887\"],[0.1111111111111111,\"#46039f\"],[0.2222222222222222,\"#7201a8\"],[0.3333333333333333,\"#9c179e\"],[0.4444444444444444,\"#bd3786\"],[0.5555555555555556,\"#d8576b\"],[0.6666666666666666,\"#ed7953\"],[0.7777777777777778,\"#fb9f3a\"],[0.8888888888888888,\"#fdca26\"],[1.0,\"#f0f921\"]]}],\"choropleth\":[{\"type\":\"choropleth\",\"colorbar\":{\"outlinewidth\":0,\"ticks\":\"\"}}],\"histogram2d\":[{\"type\":\"histogram2d\",\"colorbar\":{\"outlinewidth\":0,\"ticks\":\"\"},\"colorscale\":[[0.0,\"#0d0887\"],[0.1111111111111111,\"#46039f\"],[0.2222222222222222,\"#7201a8\"],[0.3333333333333333,\"#9c179e\"],[0.4444444444444444,\"#bd3786\"],[0.5555555555555556,\"#d8576b\"],[0.6666666666666666,\"#ed7953\"],[0.7777777777777778,\"#fb9f3a\"],[0.8888888888888888,\"#fdca26\"],[1.0,\"#f0f921\"]]}],\"heatmap\":[{\"type\":\"heatmap\",\"colorbar\":{\"outlinewidth\":0,\"ticks\":\"\"},\"colorscale\":[[0.0,\"#0d0887\"],[0.1111111111111111,\"#46039f\"],[0.2222222222222222,\"#7201a8\"],[0.3333333333333333,\"#9c179e\"],[0.4444444444444444,\"#bd3786\"],[0.5555555555555556,\"#d8576b\"],[0.6666666666666666,\"#ed7953\"],[0.7777777777777778,\"#fb9f3a\"],[0.8888888888888888,\"#fdca26\"],[1.0,\"#f0f921\"]]}],\"heatmapgl\":[{\"type\":\"heatmapgl\",\"colorbar\":{\"outlinewidth\":0,\"ticks\":\"\"},\"colorscale\":[[0.0,\"#0d0887\"],[0.1111111111111111,\"#46039f\"],[0.2222222222222222,\"#7201a8\"],[0.3333333333333333,\"#9c179e\"],[0.4444444444444444,\"#bd3786\"],[0.5555555555555556,\"#d8576b\"],[0.6666666666666666,\"#ed7953\"],[0.7777777777777778,\"#fb9f3a\"],[0.8888888888888888,\"#fdca26\"],[1.0,\"#f0f921\"]]}],\"contourcarpet\":[{\"type\":\"contourcarpet\",\"colorbar\":{\"outlinewidth\":0,\"ticks\":\"\"}}],\"contour\":[{\"type\":\"contour\",\"colorbar\":{\"outlinewidth\":0,\"ticks\":\"\"},\"colorscale\":[[0.0,\"#0d0887\"],[0.1111111111111111,\"#46039f\"],[0.2222222222222222,\"#7201a8\"],[0.3333333333333333,\"#9c179e\"],[0.4444444444444444,\"#bd3786\"],[0.5555555555555556,\"#d8576b\"],[0.6666666666666666,\"#ed7953\"],[0.7777777777777778,\"#fb9f3a\"],[0.8888888888888888,\"#fdca26\"],[1.0,\"#f0f921\"]]}],\"surface\":[{\"type\":\"surface\",\"colorbar\":{\"outlinewidth\":0,\"ticks\":\"\"},\"colorscale\":[[0.0,\"#0d0887\"],[0.1111111111111111,\"#46039f\"],[0.2222222222222222,\"#7201a8\"],[0.3333333333333333,\"#9c179e\"],[0.4444444444444444,\"#bd3786\"],[0.5555555555555556,\"#d8576b\"],[0.6666666666666666,\"#ed7953\"],[0.7777777777777778,\"#fb9f3a\"],[0.8888888888888888,\"#fdca26\"],[1.0,\"#f0f921\"]]}],\"mesh3d\":[{\"type\":\"mesh3d\",\"colorbar\":{\"outlinewidth\":0,\"ticks\":\"\"}}],\"scatter\":[{\"fillpattern\":{\"fillmode\":\"overlay\",\"size\":10,\"solidity\":0.2},\"type\":\"scatter\"}],\"parcoords\":[{\"type\":\"parcoords\",\"line\":{\"colorbar\":{\"outlinewidth\":0,\"ticks\":\"\"}}}],\"scatterpolargl\":[{\"type\":\"scatterpolargl\",\"marker\":{\"colorbar\":{\"outlinewidth\":0,\"ticks\":\"\"}}}],\"bar\":[{\"error_x\":{\"color\":\"#2a3f5f\"},\"error_y\":{\"color\":\"#2a3f5f\"},\"marker\":{\"line\":{\"color\":\"#E5ECF6\",\"width\":0.5},\"pattern\":{\"fillmode\":\"overlay\",\"size\":10,\"solidity\":0.2}},\"type\":\"bar\"}],\"scattergeo\":[{\"type\":\"scattergeo\",\"marker\":{\"colorbar\":{\"outlinewidth\":0,\"ticks\":\"\"}}}],\"scatterpolar\":[{\"type\":\"scatterpolar\",\"marker\":{\"colorbar\":{\"outlinewidth\":0,\"ticks\":\"\"}}}],\"histogram\":[{\"marker\":{\"pattern\":{\"fillmode\":\"overlay\",\"size\":10,\"solidity\":0.2}},\"type\":\"histogram\"}],\"scattergl\":[{\"type\":\"scattergl\",\"marker\":{\"colorbar\":{\"outlinewidth\":0,\"ticks\":\"\"}}}],\"scatter3d\":[{\"type\":\"scatter3d\",\"line\":{\"colorbar\":{\"outlinewidth\":0,\"ticks\":\"\"}},\"marker\":{\"colorbar\":{\"outlinewidth\":0,\"ticks\":\"\"}}}],\"scattermapbox\":[{\"type\":\"scattermapbox\",\"marker\":{\"colorbar\":{\"outlinewidth\":0,\"ticks\":\"\"}}}],\"scatterternary\":[{\"type\":\"scatterternary\",\"marker\":{\"colorbar\":{\"outlinewidth\":0,\"ticks\":\"\"}}}],\"scattercarpet\":[{\"type\":\"scattercarpet\",\"marker\":{\"colorbar\":{\"outlinewidth\":0,\"ticks\":\"\"}}}],\"carpet\":[{\"aaxis\":{\"endlinecolor\":\"#2a3f5f\",\"gridcolor\":\"white\",\"linecolor\":\"white\",\"minorgridcolor\":\"white\",\"startlinecolor\":\"#2a3f5f\"},\"baxis\":{\"endlinecolor\":\"#2a3f5f\",\"gridcolor\":\"white\",\"linecolor\":\"white\",\"minorgridcolor\":\"white\",\"startlinecolor\":\"#2a3f5f\"},\"type\":\"carpet\"}],\"table\":[{\"cells\":{\"fill\":{\"color\":\"#EBF0F8\"},\"line\":{\"color\":\"white\"}},\"header\":{\"fill\":{\"color\":\"#C8D4E3\"},\"line\":{\"color\":\"white\"}},\"type\":\"table\"}],\"barpolar\":[{\"marker\":{\"line\":{\"color\":\"#E5ECF6\",\"width\":0.5},\"pattern\":{\"fillmode\":\"overlay\",\"size\":10,\"solidity\":0.2}},\"type\":\"barpolar\"}],\"pie\":[{\"automargin\":true,\"type\":\"pie\"}]},\"layout\":{\"autotypenumbers\":\"strict\",\"colorway\":[\"#636efa\",\"#EF553B\",\"#00cc96\",\"#ab63fa\",\"#FFA15A\",\"#19d3f3\",\"#FF6692\",\"#B6E880\",\"#FF97FF\",\"#FECB52\"],\"font\":{\"color\":\"#2a3f5f\"},\"hovermode\":\"closest\",\"hoverlabel\":{\"align\":\"left\"},\"paper_bgcolor\":\"white\",\"plot_bgcolor\":\"#E5ECF6\",\"polar\":{\"bgcolor\":\"#E5ECF6\",\"angularaxis\":{\"gridcolor\":\"white\",\"linecolor\":\"white\",\"ticks\":\"\"},\"radialaxis\":{\"gridcolor\":\"white\",\"linecolor\":\"white\",\"ticks\":\"\"}},\"ternary\":{\"bgcolor\":\"#E5ECF6\",\"aaxis\":{\"gridcolor\":\"white\",\"linecolor\":\"white\",\"ticks\":\"\"},\"baxis\":{\"gridcolor\":\"white\",\"linecolor\":\"white\",\"ticks\":\"\"},\"caxis\":{\"gridcolor\":\"white\",\"linecolor\":\"white\",\"ticks\":\"\"}},\"coloraxis\":{\"colorbar\":{\"outlinewidth\":0,\"ticks\":\"\"}},\"colorscale\":{\"sequential\":[[0.0,\"#0d0887\"],[0.1111111111111111,\"#46039f\"],[0.2222222222222222,\"#7201a8\"],[0.3333333333333333,\"#9c179e\"],[0.4444444444444444,\"#bd3786\"],[0.5555555555555556,\"#d8576b\"],[0.6666666666666666,\"#ed7953\"],[0.7777777777777778,\"#fb9f3a\"],[0.8888888888888888,\"#fdca26\"],[1.0,\"#f0f921\"]],\"sequentialminus\":[[0.0,\"#0d0887\"],[0.1111111111111111,\"#46039f\"],[0.2222222222222222,\"#7201a8\"],[0.3333333333333333,\"#9c179e\"],[0.4444444444444444,\"#bd3786\"],[0.5555555555555556,\"#d8576b\"],[0.6666666666666666,\"#ed7953\"],[0.7777777777777778,\"#fb9f3a\"],[0.8888888888888888,\"#fdca26\"],[1.0,\"#f0f921\"]],\"diverging\":[[0,\"#8e0152\"],[0.1,\"#c51b7d\"],[0.2,\"#de77ae\"],[0.3,\"#f1b6da\"],[0.4,\"#fde0ef\"],[0.5,\"#f7f7f7\"],[0.6,\"#e6f5d0\"],[0.7,\"#b8e186\"],[0.8,\"#7fbc41\"],[0.9,\"#4d9221\"],[1,\"#276419\"]]},\"xaxis\":{\"gridcolor\":\"white\",\"linecolor\":\"white\",\"ticks\":\"\",\"title\":{\"standoff\":15},\"zerolinecolor\":\"white\",\"automargin\":true,\"zerolinewidth\":2},\"yaxis\":{\"gridcolor\":\"white\",\"linecolor\":\"white\",\"ticks\":\"\",\"title\":{\"standoff\":15},\"zerolinecolor\":\"white\",\"automargin\":true,\"zerolinewidth\":2},\"scene\":{\"xaxis\":{\"backgroundcolor\":\"#E5ECF6\",\"gridcolor\":\"white\",\"linecolor\":\"white\",\"showbackground\":true,\"ticks\":\"\",\"zerolinecolor\":\"white\",\"gridwidth\":2},\"yaxis\":{\"backgroundcolor\":\"#E5ECF6\",\"gridcolor\":\"white\",\"linecolor\":\"white\",\"showbackground\":true,\"ticks\":\"\",\"zerolinecolor\":\"white\",\"gridwidth\":2},\"zaxis\":{\"backgroundcolor\":\"#E5ECF6\",\"gridcolor\":\"white\",\"linecolor\":\"white\",\"showbackground\":true,\"ticks\":\"\",\"zerolinecolor\":\"white\",\"gridwidth\":2}},\"shapedefaults\":{\"line\":{\"color\":\"#2a3f5f\"}},\"annotationdefaults\":{\"arrowcolor\":\"#2a3f5f\",\"arrowhead\":0,\"arrowwidth\":1},\"geo\":{\"bgcolor\":\"white\",\"landcolor\":\"#E5ECF6\",\"subunitcolor\":\"white\",\"showland\":true,\"showlakes\":true,\"lakecolor\":\"white\"},\"title\":{\"x\":0.05},\"mapbox\":{\"style\":\"light\"}}},\"title\":{\"text\":\"Compara\\u00e7\\u00e3o das Pir\\u00e2mides Et\\u00e1rias de S\\u00e3o Paulo e Rio de Janeiro 2022\"},\"xaxis\":{\"title\":{\"text\":\"Faixa et\\u00e1ria\"}},\"yaxis\":{\"title\":{\"text\":\"Popula\\u00e7\\u00e3o\"}}},                        {\"responsive\": true}                    ).then(function(){\n",
       "                            \n",
       "var gd = document.getElementById('a200a35f-28b5-4ca7-9dee-87df06cfc2de');\n",
       "var x = new MutationObserver(function (mutations, observer) {{\n",
       "        var display = window.getComputedStyle(gd).display;\n",
       "        if (!display || display === 'none') {{\n",
       "            console.log([gd, 'removed!']);\n",
       "            Plotly.purge(gd);\n",
       "            observer.disconnect();\n",
       "        }}\n",
       "}});\n",
       "\n",
       "// Listen for the removal of the full notebook cells\n",
       "var notebookContainer = gd.closest('#notebook-container');\n",
       "if (notebookContainer) {{\n",
       "    x.observe(notebookContainer, {childList: true});\n",
       "}}\n",
       "\n",
       "// Listen for the clearing of the current output cell\n",
       "var outputEl = gd.closest('.output');\n",
       "if (outputEl) {{\n",
       "    x.observe(outputEl, {childList: true});\n",
       "}}\n",
       "\n",
       "                        })                };                });            </script>        </div>"
      ]
     },
     "metadata": {},
     "output_type": "display_data"
    }
   ],
   "source": [
    "fig = go.Figure()\n",
    "\n",
    "# Adicionando linhas de população feminina e masculina para São Paulo e Rio de Janeiro\n",
    "fig.add_trace(go.Scatter(x=idades, y=pop_feminina, mode='lines', name='População feminina São Paulo', line=dict(color='blue')))\n",
    "fig.add_trace(go.Scatter(x=idades, y=pop_masculina, mode='lines', name='População masculina São Paulo', line=dict(color='purple')))\n",
    "fig.add_trace(go.Scatter(x=idades, y=pop_feminina_rio, mode='lines', name='População feminina Rio', line=dict(color='red')))\n",
    "fig.add_trace(go.Scatter(x=idades, y=pop_masculina_rio, mode='lines', name='População masculina Rio', line=dict(color='magenta')))\n",
    "\n",
    "# Atualizando layout\n",
    "fig.update_layout(title='Comparação das Pirâmides Etárias de São Paulo e Rio de Janeiro 2022',\n",
    "                  xaxis_title='Faixa etária',\n",
    "                  yaxis_title='População')\n",
    "\n",
    "# Exibindo o gráfico interativo\n",
    "fig.show()"
   ]
  },
  {
   "cell_type": "code",
   "execution_count": 48,
   "id": "d64a5725",
   "metadata": {},
   "outputs": [],
   "source": [
    "import plotly.graph_objects as go\n",
    "from plotly.subplots import make_subplots\n",
    "\n",
    "# Dados do gráfico 1 (Rio de Janeiro)\n",
    "idades_rio = dados_cit1_r[\"Grupo de idade\"]\n",
    "pop_feminina_rio = dados_cit1_r[\"popfem_rio\"]\n",
    "pop_masculina_rio = dados_cit1_r[\"popmasc_rio\"]\n",
    "\n",
    "# Criando o gráfico interativo do Rio de Janeiro\n",
    "fig_rio = go.Figure()\n",
    "fig_rio.add_trace(go.Bar(\n",
    "    y=idades_rio,\n",
    "    x=pop_feminina_rio,\n",
    "    name='População feminina Rio de Janeiro',\n",
    "    orientation='h',\n",
    "    marker=dict(color='yellow')\n",
    "))\n",
    "fig_rio.add_trace(go.Bar(\n",
    "    y=idades_rio,\n",
    "    x=pop_masculina_rio,\n",
    "    name='População masculina Rio de Janeiro',\n",
    "    orientation='h',\n",
    "    marker=dict(color='green')\n",
    "))\n",
    "fig_rio.update_layout(\n",
    "    title='Pirâmide Etária Rio de Janeiro 2022',\n",
    "    xaxis_title='População',\n",
    "    yaxis_title='Faixa etária',\n",
    "    barmode='relative',\n",
    "    bargap=0.1,\n",
    "    bargroupgap=0.05\n",
    ")\n",
    "\n",
    "# Dados do gráfico 2 (São Paulo)\n",
    "idades_sp = dados_cit2_r[\"Grupo de idade\"]\n",
    "pop_feminina_sp = dados_cit2_r[\"Popfem2\"]\n",
    "pop_masculina_sp = dados_cit2_r[\"Popmasc\"]\n",
    "\n",
    "# Criando o gráfico interativo de São Paulo\n",
    "fig_sp = go.Figure()\n",
    "fig_sp.add_trace(go.Bar(\n",
    "    y=idades_sp,\n",
    "    x=pop_feminina_sp,\n",
    "    name='População feminina São Paulo',\n",
    "    orientation='h',\n",
    "    marker=dict(color='blue')\n",
    "))\n",
    "fig_sp.add_trace(go.Bar(\n",
    "    y=idades_sp,\n",
    "    x=pop_masculina_sp,\n",
    "    name='População masculina São Paulo',\n",
    "    orientation='h',\n",
    "    marker=dict(color='red')\n",
    "))\n",
    "fig_sp.update_layout(\n",
    "    title='Pirâmide Etária São Paulo 2022',\n",
    "    xaxis_title='População',\n",
    "    yaxis_title='Faixa etária',\n",
    "    barmode='relative',\n",
    "    bargap=0.1,\n",
    "    bargroupgap=0.05\n",
    ")\n",
    "\n",
    "# Dados do gráfico 3 (Comparação)\n",
    "# Defina os dados novamente para o gráfico de comparação, caso não tenha sido definido antes\n",
    "idades_comp = dados_cit2_r[\"Grupo de idade\"]\n",
    "pop_feminina_comp = dados_cit2_r[\"Popfem2\"]\n",
    "pop_masculina_comp = dados_cit2_r[\"Popmasc\"]\n",
    "\n",
    "# Criando o gráfico interativo de comparação\n",
    "fig_comp = go.Figure()\n",
    "fig_comp.add_trace(go.Scatter(\n",
    "    x=idades_comp,\n",
    "    y=pop_feminina_comp,\n",
    "    mode='lines',\n",
    "    name='População feminina São Paulo',\n",
    "    line=dict(color='blue')\n",
    "))\n",
    "fig_comp.add_trace(go.Scatter(\n",
    "    x=idades_comp,\n",
    "    y=pop_masculina_comp,\n",
    "    mode='lines',\n",
    "    name='População masculina São Paulo',\n",
    "    line=dict(color='purple')\n",
    "))\n",
    "fig_comp.add_trace(go.Scatter(\n",
    "    x=idades_rio,\n",
    "    y=pop_feminina_rio,\n",
    "    mode='lines',\n",
    "    name='População feminina Rio de Janeiro',\n",
    "    line=dict(color='red')\n",
    "))\n",
    "fig_comp.add_trace(go.Scatter(\n",
    "    x=idades_rio,\n",
    "    y=pop_masculina_rio,\n",
    "    mode='lines',\n",
    "    name='População masculina Rio de Janeiro',\n",
    "    line=dict(color='magenta')\n",
    "))\n",
    "fig_comp.update_layout(\n",
    "    title='Comparação das Pirâmides Etárias de São Paulo e Rio de Janeiro 2022',\n",
    "    xaxis_title='Faixa etária',\n",
    "    yaxis_title='População'\n",
    ")\n",
    "\n",
    "# Criando a página HTML com os três gráficos\n",
    "fig_comp_div = fig_comp.to_html(full_html=False)\n",
    "fig_rio_div = fig_rio.to_html(full_html=False)\n",
    "fig_sp_div = fig_sp.to_html(full_html=False)\n",
    "\n",
    "html_content = f'''\n",
    "<!DOCTYPE html>\n",
    "<html lang=\"en\">\n",
    "<head>\n",
    "    <meta charset=\"UTF-8\">\n",
    "    <meta name=\"viewport\" content=\"width=device-width, initial-scale=1.0\">\n",
    "    <title>Comparação de Pirâmides Etárias</title>\n",
    "    <style>\n",
    "        body {{\n",
    "            background-color: #171033; /* Azul petróleo */\n",
    "            color: white; /* Texto em branco */\n",
    "        }}\n",
    "\n",
    "        .header {{\n",
    "            background-color: #008000; /* Verde */\n",
    "            padding: 10px;\n",
    "            text-align: center;\n",
    "        }}\n",
    "\n",
    "        .header h1 {{\n",
    "            margin: 0;\n",
    "        }}\n",
    "\n",
    "        .description {{\n",
    "            margin-bottom: 20px;\n",
    "        }}\n",
    "\n",
    "        a {{\n",
    "            color: white;\n",
    "        }}\n",
    "    </style>\n",
    "</head>\n",
    "<body>\n",
    "    <div class=\"header\">\n",
    "        <h1>Comparação de Pirâmides Etárias</h1>\n",
    "    </div>\n",
    "    <div class=\"description\">\n",
    "        <p>A análise das pirâmides etárias é fundamental para compreender a estrutura demográfica de uma população, identificando tendências como o envelhecimento ou rejuvenescimento da sociedade. Essas informações são essenciais para o planejamento de políticas públicas, previsão de demandas em áreas como saúde e educação, e para entender o impacto econômico e social das mudanças na composição populacional.</p>\n",
    "        <p>Para conferir os dados utilizados nesta análise, consulte o <a href=\"https://www.ibge.gov.br/\">IBGE</a>.</p>\n",
    "    </div>\n",
    "    <div>\n",
    "        <h2>Pirâmide Etária Rio de Janeiro 2022</h2>\n",
    "        {fig_rio_div}\n",
    "    </div>\n",
    "    <div>\n",
    "        <h2>Pirâmide Etária São Paulo 2022</h2>\n",
    "        {fig_sp_div}\n",
    "    </div>\n",
    "    <div>\n",
    "        <h2>Comparação das Pirâmides Etárias de São Paulo e Rio de Janeiro 2022</h2>\n",
    "        {fig_comp_div}\n",
    "    </div>\n",
    "</body>\n",
    "</html>\n",
    "'''\n",
    "\n",
    "with open('comparacao_piramides_etarias.html', 'w') as f:\n",
    "    f.write(html_content)\n",
    "\n",
    "    \n",
    "\n"
   ]
  },
  {
   "cell_type": "code",
   "execution_count": 49,
   "id": "8a57eb70",
   "metadata": {},
   "outputs": [],
   "source": [
    "import plotly.graph_objects as go\n",
    "from plotly.subplots import make_subplots\n",
    "# Definindo a altura e largura desejadas para os gráficos\n",
    "altura_grafico = 400\n",
    "largura_grafico = 500\n",
    "\n",
    "# Criando o gráfico interativo do Rio de Janeiro\n",
    "fig_rio = go.Figure()\n",
    "fig_rio.add_trace(go.Bar(\n",
    "    y=idades_rio,\n",
    "    x=pop_feminina_rio,\n",
    "    name='População feminina Rio de Janeiro',\n",
    "    orientation='h',\n",
    "    marker=dict(color='yellow')\n",
    "))\n",
    "fig_rio.add_trace(go.Bar(\n",
    "    y=idades_rio,\n",
    "    x=pop_masculina_rio,\n",
    "    name='População masculina Rio de Janeiro',\n",
    "    orientation='h',\n",
    "    marker=dict(color='green')\n",
    "))\n",
    "fig_rio.update_layout(\n",
    "    title='Pirâmide Etária Rio de Janeiro 2022',\n",
    "    xaxis_title='População',\n",
    "    yaxis_title='Faixa etária',\n",
    "    barmode='relative',\n",
    "    bargap=0.1,\n",
    "    bargroupgap=0.05,\n",
    "    height=altura_grafico,\n",
    "    width=largura_grafico,\n",
    "    margin=dict(l=50, r=50, t=50, b=50) # Ajustando as margens\n",
    ")\n",
    "\n",
    "# Criando o gráfico interativo de São Paulo\n",
    "fig_sp = go.Figure()\n",
    "fig_sp.add_trace(go.Bar(\n",
    "    y=idades_sp,\n",
    "    x=pop_feminina_sp,\n",
    "    name='População feminina São Paulo',\n",
    "    orientation='h',\n",
    "    marker=dict(color='blue')\n",
    "))\n",
    "fig_sp.add_trace(go.Bar(\n",
    "    y=idades_sp,\n",
    "    x=pop_masculina_sp,\n",
    "    name='População masculina São Paulo',\n",
    "    orientation='h',\n",
    "    marker=dict(color='red')\n",
    "))\n",
    "fig_sp.update_layout(\n",
    "    title='Pirâmide Etária São Paulo 2022',\n",
    "    xaxis_title='População',\n",
    "    yaxis_title='Faixa etária',\n",
    "    barmode='relative',\n",
    "    bargap=0.1,\n",
    "    bargroupgap=0.05,\n",
    "    height=altura_grafico,\n",
    "    width=largura_grafico,\n",
    "    margin=dict(l=50, r=50, t=50, b=50) # Ajustando as margens\n",
    ")\n",
    "\n",
    "# Criando o gráfico interativo de comparação\n",
    "fig_comp = go.Figure()\n",
    "fig_comp.add_trace(go.Scatter(\n",
    "    x=idades_comp,\n",
    "    y=pop_feminina_comp,\n",
    "    mode='lines',\n",
    "    name='População feminina São Paulo',\n",
    "    line=dict(color='blue')\n",
    "))\n",
    "fig_comp.add_trace(go.Scatter(\n",
    "    x=idades_comp,\n",
    "    y=pop_masculina_comp,\n",
    "    mode='lines',\n",
    "    name='População masculina São Paulo',\n",
    "    line=dict(color='purple')\n",
    "))\n",
    "fig_comp.add_trace(go.Scatter(\n",
    "    x=idades_rio,\n",
    "    y=pop_feminina_rio,\n",
    "    mode='lines',\n",
    "    name='População feminina Rio de Janeiro',\n",
    "    line=dict(color='red')\n",
    "))\n",
    "fig_comp.add_trace(go.Scatter(\n",
    "    x=idades_rio,\n",
    "    y=pop_masculina_rio,\n",
    "    mode='lines',\n",
    "    name='População masculina Rio de Janeiro',\n",
    "    line=dict(color='magenta')\n",
    "))\n",
    "fig_comp.update_layout(\n",
    "    title='Comparação das Pirâmides Etárias de São Paulo e Rio de Janeiro 2022',\n",
    "    xaxis_title='Faixa etária',\n",
    "    yaxis_title='População',\n",
    "    height=altura_grafico,\n",
    "    width=largura_grafico,\n",
    "    margin=dict(l=50, r=50, t=50, b=50) # Ajustando as margens\n",
    ")\n",
    "\n",
    "\n",
    "# Criando a página HTML com os três gráficos\n",
    "fig_comp_div = fig_comp.to_html(full_html=False)\n",
    "fig_rio_div = fig_rio.to_html(full_html=False)\n",
    "fig_sp_div = fig_sp.to_html(full_html=False)\n",
    "\n",
    "html_content = f'''\n",
    "<!DOCTYPE html>\n",
    "<html lang=\"en\">\n",
    "<head>\n",
    "    <meta charset=\"UTF-8\">\n",
    "    <meta name=\"viewport\" content=\"width=device-width, initial-scale=1.0\">\n",
    "    <title>Comparação de Pirâmides Etárias</title>\n",
    "    <style>\n",
    "        body {{\n",
    "            background-color: #171033; /* Azul petróleo */\n",
    "            color: white; /* Texto em branco */\n",
    "        }}\n",
    "\n",
    "        .header {{\n",
    "            background-color: #008000; /* Verde */\n",
    "            padding: 10px;\n",
    "            text-align: center;\n",
    "        }}\n",
    "\n",
    "        .header h1 {{\n",
    "            margin: 0;\n",
    "        }}\n",
    "\n",
    "        .description {{\n",
    "            margin-bottom: 20px;\n",
    "        }}\n",
    "\n",
    "        a {{\n",
    "            color: white;\n",
    "        }}\n",
    "    </style>\n",
    "</head>\n",
    "<body>\n",
    "    <div class=\"header\">\n",
    "        <h1>Comparação de Pirâmides Etárias</h1>\n",
    "    </div>\n",
    "    <div class=\"description\">\n",
    "        <p>A análise das pirâmides etárias é fundamental para compreender a estrutura demográfica de uma população, identificando tendências como o envelhecimento ou rejuvenescimento da sociedade. Essas informações são essenciais para o planejamento de políticas públicas, previsão de demandas em áreas como saúde e educação, e para entender o impacto econômico e social das mudanças na composição populacional.</p>\n",
    "        <p>Para conferir os dados utilizados nesta análise, consulte o <a href=\"https://www.ibge.gov.br/\">IBGE</a>.</p>\n",
    "    </div>\n",
    "    <div>\n",
    "        <h2>Pirâmide Etária Rio de Janeiro 2022</h2>\n",
    "        {fig_rio_div}\n",
    "    </div>\n",
    "    <div>\n",
    "        <h2>Pirâmide Etária São Paulo 2022</h2>\n",
    "        {fig_sp_div}\n",
    "    </div>\n",
    "    <div>\n",
    "        <h2>Comparação das Pirâmides Etárias de São Paulo e Rio de Janeiro 2022</h2>\n",
    "        {fig_comp_div}\n",
    "    </div>\n",
    "</body>\n",
    "</html>\n",
    "'''\n",
    "\n",
    "with open('comparacao_piramides_etarias_celular.html', 'w') as f:\n",
    "    f.write(html_content)\n",
    "\n",
    "    \n",
    "\n"
   ]
  },
  {
   "cell_type": "code",
   "execution_count": null,
   "id": "65aea913",
   "metadata": {},
   "outputs": [],
   "source": []
  },
  {
   "cell_type": "code",
   "execution_count": null,
   "id": "1a3b06dd",
   "metadata": {},
   "outputs": [],
   "source": []
  },
  {
   "cell_type": "code",
   "execution_count": null,
   "id": "24984a53",
   "metadata": {},
   "outputs": [],
   "source": []
  },
  {
   "cell_type": "code",
   "execution_count": null,
   "id": "11a2e01b",
   "metadata": {},
   "outputs": [],
   "source": []
  },
  {
   "cell_type": "code",
   "execution_count": null,
   "id": "4c493623",
   "metadata": {},
   "outputs": [],
   "source": []
  },
  {
   "cell_type": "code",
   "execution_count": null,
   "id": "3b52cf34",
   "metadata": {},
   "outputs": [],
   "source": []
  },
  {
   "cell_type": "code",
   "execution_count": null,
   "id": "003376bd",
   "metadata": {},
   "outputs": [],
   "source": []
  }
 ],
 "metadata": {
  "kernelspec": {
   "display_name": "Python 3 (ipykernel)",
   "language": "python",
   "name": "python3"
  },
  "language_info": {
   "codemirror_mode": {
    "name": "ipython",
    "version": 3
   },
   "file_extension": ".py",
   "mimetype": "text/x-python",
   "name": "python",
   "nbconvert_exporter": "python",
   "pygments_lexer": "ipython3",
   "version": "3.9.13"
  }
 },
 "nbformat": 4,
 "nbformat_minor": 5
}
